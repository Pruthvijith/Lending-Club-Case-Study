{
 "cells": [
  {
  },
  {
   "cell_type": "markdown",
   "metadata": {},
   "source": [
    "### Problem Statement\n",
    "#### Introduction\n",
    "Solving this assignment will give you an idea about how real business problems are solved using EDA. In this case study, apart from applying the techniques you have learnt in EDA, you will also develop a basic understanding of risk analytics in banking and financial services and understand how data is used to minimise the risk of losing money while lending to customers.\n",
    "\n",
    "### Business Understanding\n",
    "You work for a consumer finance company which specialises in lending various types of loans to urban customers. When the company receives a loan application, the company has to make a decision for loan approval based on the applicant’s profile. Two types of risks are associated with the bank’s decision:\n",
    "- If the applicant is likely to repay the loan, then not approving the loan results in a loss of business to the company\n",
    "\n",
    "- If the applicant is not likely to repay the loan, i.e. he/she is likely to default, then approving the loan may lead to a financial loss for the company\n",
    "\n",
    "The data given below contains the information about past loan applicants and whether they ‘defaulted’ or not. The aim is to identify patterns which indicate if a person is likely to default, which may be used for taking actions such as denying the loan, reducing the amount of loan, lending (to risky applicants) at a higher interest rate, etc.\n",
    "\n",
    "In this case study, you will use EDA to understand how consumer attributes and loan attributes influence the tendency of default.\n",
    "\n",
    "When a person applies for a loan, there are two types of decisions that could be taken by the company:\n",
    "\n",
    "1. Loan accepted: If the company approves the loan, there are 3 possible scenarios described below:\n",
    "    - Fully paid: Applicant has fully paid the loan (the principal and the interest rate)\n",
    "    - Current: Applicant is in the process of paying the instalments, i.e. the tenure of the loan is not yet completed. These candidates are not labelled as 'defaulted'.\n",
    "    - Charged-off: Applicant has not paid the instalments in due time for a long period of time, i.e. he/she has defaulted on the loan \n",
    "\n",
    "2. Loan rejected: The company had rejected the loan (because the candidate does not meet their requirements etc.). Since the loan was rejected, there is no transactional history of those applicants with the company and so this data is not available with the company (and thus in this dataset)\n",
    " \n",
    "\n",
    "### Business Objectives\n",
    "This company is the largest online loan marketplace, facilitating personal loans, business loans, and financing of medical procedures. Borrowers can easily access lower interest rate loans through a fast online interface. \n",
    "\n",
    "Like most other lending companies, lending loans to ‘risky’ applicants is the largest source of financial loss (called credit loss). The credit loss is the amount of money lost by the lender when the borrower refuses to pay or runs away with the money owed. In other words, borrowers who default cause the largest amount of loss to the lenders. In this case, the customers labelled as 'charged-off' are the 'defaulters'. \n",
    "\n",
    "If one is able to identify these risky loan applicants, then such loans can be reduced thereby cutting down the amount of credit loss. Identification of such applicants using EDA is the aim of this case study.\n",
    "\n",
    "In other words, the company wants to understand the driving factors (or driver variables) behind loan default, i.e. the variables which are strong indicators of default.  The company can utilise this knowledge for its portfolio and risk assessment. \n",
    "\n",
    "To develop your understanding of the domain, you are advised to independently research a little about risk analytics (understanding the types of variables and their significance should be enough).\n"
   ]
  },
  {
   "cell_type": "code",
   "execution_count": null,
   "metadata": {},
   "outputs": [],
   "source": []
  },
  {
   "cell_type": "code",
   "execution_count": 1503,
   "metadata": {},
   "outputs": [
    {
     "data": {
      "text/html": [
       "<div>\n",
       "<style scoped>\n",
       "    .dataframe tbody tr th:only-of-type {\n",
       "        vertical-align: middle;\n",
       "    }\n",
       "\n",
       "    .dataframe tbody tr th {\n",
       "        vertical-align: top;\n",
       "    }\n",
       "\n",
       "    .dataframe thead th {\n",
       "        text-align: right;\n",
       "    }\n",
       "</style>\n",
       "<table border=\"1\" class=\"dataframe\">\n",
       "  <thead>\n",
       "    <tr style=\"text-align: right;\">\n",
       "      <th></th>\n",
       "      <th>id</th>\n",
       "      <th>member_id</th>\n",
       "      <th>loan_amnt</th>\n",
       "      <th>funded_amnt</th>\n",
       "      <th>funded_amnt_inv</th>\n",
       "      <th>term</th>\n",
       "      <th>int_rate</th>\n",
       "      <th>installment</th>\n",
       "      <th>grade</th>\n",
       "      <th>sub_grade</th>\n",
       "      <th>...</th>\n",
       "      <th>num_tl_90g_dpd_24m</th>\n",
       "      <th>num_tl_op_past_12m</th>\n",
       "      <th>pct_tl_nvr_dlq</th>\n",
       "      <th>percent_bc_gt_75</th>\n",
       "      <th>pub_rec_bankruptcies</th>\n",
       "      <th>tax_liens</th>\n",
       "      <th>tot_hi_cred_lim</th>\n",
       "      <th>total_bal_ex_mort</th>\n",
       "      <th>total_bc_limit</th>\n",
       "      <th>total_il_high_credit_limit</th>\n",
       "    </tr>\n",
       "  </thead>\n",
       "  <tbody>\n",
       "    <tr>\n",
       "      <th>0</th>\n",
       "      <td>1077501</td>\n",
       "      <td>1296599</td>\n",
       "      <td>5000</td>\n",
       "      <td>5000</td>\n",
       "      <td>4975</td>\n",
       "      <td>36 months</td>\n",
       "      <td>10.65%</td>\n",
       "      <td>162.87</td>\n",
       "      <td>B</td>\n",
       "      <td>B2</td>\n",
       "      <td>...</td>\n",
       "      <td>NaN</td>\n",
       "      <td>NaN</td>\n",
       "      <td>NaN</td>\n",
       "      <td>NaN</td>\n",
       "      <td>0</td>\n",
       "      <td>0</td>\n",
       "      <td>NaN</td>\n",
       "      <td>NaN</td>\n",
       "      <td>NaN</td>\n",
       "      <td>NaN</td>\n",
       "    </tr>\n",
       "    <tr>\n",
       "      <th>1</th>\n",
       "      <td>1077430</td>\n",
       "      <td>1314167</td>\n",
       "      <td>2500</td>\n",
       "      <td>2500</td>\n",
       "      <td>2500</td>\n",
       "      <td>60 months</td>\n",
       "      <td>15.27%</td>\n",
       "      <td>59.83</td>\n",
       "      <td>C</td>\n",
       "      <td>C4</td>\n",
       "      <td>...</td>\n",
       "      <td>NaN</td>\n",
       "      <td>NaN</td>\n",
       "      <td>NaN</td>\n",
       "      <td>NaN</td>\n",
       "      <td>0</td>\n",
       "      <td>0</td>\n",
       "      <td>NaN</td>\n",
       "      <td>NaN</td>\n",
       "      <td>NaN</td>\n",
       "      <td>NaN</td>\n",
       "    </tr>\n",
       "    <tr>\n",
       "      <th>2</th>\n",
       "      <td>1077175</td>\n",
       "      <td>1313524</td>\n",
       "      <td>2400</td>\n",
       "      <td>2400</td>\n",
       "      <td>2400</td>\n",
       "      <td>36 months</td>\n",
       "      <td>15.96%</td>\n",
       "      <td>84.33</td>\n",
       "      <td>C</td>\n",
       "      <td>C5</td>\n",
       "      <td>...</td>\n",
       "      <td>NaN</td>\n",
       "      <td>NaN</td>\n",
       "      <td>NaN</td>\n",
       "      <td>NaN</td>\n",
       "      <td>0</td>\n",
       "      <td>0</td>\n",
       "      <td>NaN</td>\n",
       "      <td>NaN</td>\n",
       "      <td>NaN</td>\n",
       "      <td>NaN</td>\n",
       "    </tr>\n",
       "    <tr>\n",
       "      <th>3</th>\n",
       "      <td>1076863</td>\n",
       "      <td>1277178</td>\n",
       "      <td>10000</td>\n",
       "      <td>10000</td>\n",
       "      <td>10000</td>\n",
       "      <td>36 months</td>\n",
       "      <td>13.49%</td>\n",
       "      <td>339.31</td>\n",
       "      <td>C</td>\n",
       "      <td>C1</td>\n",
       "      <td>...</td>\n",
       "      <td>NaN</td>\n",
       "      <td>NaN</td>\n",
       "      <td>NaN</td>\n",
       "      <td>NaN</td>\n",
       "      <td>0</td>\n",
       "      <td>0</td>\n",
       "      <td>NaN</td>\n",
       "      <td>NaN</td>\n",
       "      <td>NaN</td>\n",
       "      <td>NaN</td>\n",
       "    </tr>\n",
       "    <tr>\n",
       "      <th>4</th>\n",
       "      <td>1075358</td>\n",
       "      <td>1311748</td>\n",
       "      <td>3000</td>\n",
       "      <td>3000</td>\n",
       "      <td>3000</td>\n",
       "      <td>60 months</td>\n",
       "      <td>12.69%</td>\n",
       "      <td>67.79</td>\n",
       "      <td>B</td>\n",
       "      <td>B5</td>\n",
       "      <td>...</td>\n",
       "      <td>NaN</td>\n",
       "      <td>NaN</td>\n",
       "      <td>NaN</td>\n",
       "      <td>NaN</td>\n",
       "      <td>0</td>\n",
       "      <td>0</td>\n",
       "      <td>NaN</td>\n",
       "      <td>NaN</td>\n",
       "      <td>NaN</td>\n",
       "      <td>NaN</td>\n",
       "    </tr>\n",
       "  </tbody>\n",
       "</table>\n",
       "<p>5 rows × 111 columns</p>\n",
       "</div>"
      ],
      "text/plain": [
       "        id member_id loan_amnt funded_amnt funded_amnt_inv        term  \\\n",
       "0  1077501   1296599      5000        5000            4975   36 months   \n",
       "1  1077430   1314167      2500        2500            2500   60 months   \n",
       "2  1077175   1313524      2400        2400            2400   36 months   \n",
       "3  1076863   1277178     10000       10000           10000   36 months   \n",
       "4  1075358   1311748      3000        3000            3000   60 months   \n",
       "\n",
       "  int_rate installment grade sub_grade  ... num_tl_90g_dpd_24m  \\\n",
       "0   10.65%      162.87     B        B2  ...                NaN   \n",
       "1   15.27%       59.83     C        C4  ...                NaN   \n",
       "2   15.96%       84.33     C        C5  ...                NaN   \n",
       "3   13.49%      339.31     C        C1  ...                NaN   \n",
       "4   12.69%       67.79     B        B5  ...                NaN   \n",
       "\n",
       "  num_tl_op_past_12m pct_tl_nvr_dlq percent_bc_gt_75 pub_rec_bankruptcies  \\\n",
       "0                NaN            NaN              NaN                    0   \n",
       "1                NaN            NaN              NaN                    0   \n",
       "2                NaN            NaN              NaN                    0   \n",
       "3                NaN            NaN              NaN                    0   \n",
       "4                NaN            NaN              NaN                    0   \n",
       "\n",
       "  tax_liens tot_hi_cred_lim total_bal_ex_mort total_bc_limit  \\\n",
       "0         0             NaN               NaN            NaN   \n",
       "1         0             NaN               NaN            NaN   \n",
       "2         0             NaN               NaN            NaN   \n",
       "3         0             NaN               NaN            NaN   \n",
       "4         0             NaN               NaN            NaN   \n",
       "\n",
       "  total_il_high_credit_limit  \n",
       "0                        NaN  \n",
       "1                        NaN  \n",
       "2                        NaN  \n",
       "3                        NaN  \n",
       "4                        NaN  \n",
       "\n",
       "[5 rows x 111 columns]"
      ]
     },
     "execution_count": 1503,
     "metadata": {},
     "output_type": "execute_result"
    }
   ],
   "source": [
    "import os\n",
    "import numpy as np\n",
    "import pandas as pd\n",
    "import seaborn as sns\n",
    "import matplotlib.pyplot as plt\n",
    "\n",
    "#Reading the loan.csv file into pandas dataframe\n",
    "loan = pd.read_csv(r\"C:\\Users\\pruth\\Desktop\\Lending_Club_Case_Study\\loan.csv\", sep=',', error_bad_lines=False, encoding = \"ISO-8859-1\", dtype='unicode')\n",
    "loan.head()"
   ]
  },
  {
   "cell_type": "code",
   "execution_count": 1504,
   "metadata": {},
   "outputs": [
    {
     "data": {
      "text/plain": [
       "(39717, 111)"
      ]
     },
     "execution_count": 1504,
     "metadata": {},
     "output_type": "execute_result"
    }
   ],
   "source": [
    "#Determining the number of rows and columns in the dataframe\n",
    "loan.shape"
   ]
  },
  {
   "cell_type": "code",
   "execution_count": 1505,
   "metadata": {},
   "outputs": [
    {
     "name": "stdout",
     "output_type": "stream",
     "text": [
      "<class 'pandas.core.frame.DataFrame'>\n",
      "RangeIndex: 39717 entries, 0 to 39716\n",
      "Columns: 111 entries, id to total_il_high_credit_limit\n",
      "dtypes: object(111)\n",
      "memory usage: 33.6+ MB\n"
     ]
    }
   ],
   "source": [
    "#Understanding the datatypes of the columns \n",
    "loan.info()"
   ]
  },
  {
   "cell_type": "code",
   "execution_count": 1506,
   "metadata": {},
   "outputs": [
    {
     "data": {
      "text/html": [
       "<div>\n",
       "<style scoped>\n",
       "    .dataframe tbody tr th:only-of-type {\n",
       "        vertical-align: middle;\n",
       "    }\n",
       "\n",
       "    .dataframe tbody tr th {\n",
       "        vertical-align: top;\n",
       "    }\n",
       "\n",
       "    .dataframe thead th {\n",
       "        text-align: right;\n",
       "    }\n",
       "</style>\n",
       "<table border=\"1\" class=\"dataframe\">\n",
       "  <thead>\n",
       "    <tr style=\"text-align: right;\">\n",
       "      <th></th>\n",
       "      <th>id</th>\n",
       "      <th>member_id</th>\n",
       "      <th>loan_amnt</th>\n",
       "      <th>funded_amnt</th>\n",
       "      <th>funded_amnt_inv</th>\n",
       "      <th>term</th>\n",
       "      <th>int_rate</th>\n",
       "      <th>installment</th>\n",
       "      <th>grade</th>\n",
       "      <th>sub_grade</th>\n",
       "      <th>...</th>\n",
       "      <th>num_tl_90g_dpd_24m</th>\n",
       "      <th>num_tl_op_past_12m</th>\n",
       "      <th>pct_tl_nvr_dlq</th>\n",
       "      <th>percent_bc_gt_75</th>\n",
       "      <th>pub_rec_bankruptcies</th>\n",
       "      <th>tax_liens</th>\n",
       "      <th>tot_hi_cred_lim</th>\n",
       "      <th>total_bal_ex_mort</th>\n",
       "      <th>total_bc_limit</th>\n",
       "      <th>total_il_high_credit_limit</th>\n",
       "    </tr>\n",
       "  </thead>\n",
       "  <tbody>\n",
       "    <tr>\n",
       "      <th>count</th>\n",
       "      <td>39717</td>\n",
       "      <td>39717</td>\n",
       "      <td>39717</td>\n",
       "      <td>39717</td>\n",
       "      <td>39717</td>\n",
       "      <td>39717</td>\n",
       "      <td>39717</td>\n",
       "      <td>39717</td>\n",
       "      <td>39717</td>\n",
       "      <td>39717</td>\n",
       "      <td>...</td>\n",
       "      <td>0</td>\n",
       "      <td>0</td>\n",
       "      <td>0</td>\n",
       "      <td>0</td>\n",
       "      <td>39020</td>\n",
       "      <td>39678</td>\n",
       "      <td>0</td>\n",
       "      <td>0</td>\n",
       "      <td>0</td>\n",
       "      <td>0</td>\n",
       "    </tr>\n",
       "    <tr>\n",
       "      <th>unique</th>\n",
       "      <td>39717</td>\n",
       "      <td>39717</td>\n",
       "      <td>885</td>\n",
       "      <td>1041</td>\n",
       "      <td>8205</td>\n",
       "      <td>2</td>\n",
       "      <td>371</td>\n",
       "      <td>15383</td>\n",
       "      <td>7</td>\n",
       "      <td>35</td>\n",
       "      <td>...</td>\n",
       "      <td>0</td>\n",
       "      <td>0</td>\n",
       "      <td>0</td>\n",
       "      <td>0</td>\n",
       "      <td>3</td>\n",
       "      <td>1</td>\n",
       "      <td>0</td>\n",
       "      <td>0</td>\n",
       "      <td>0</td>\n",
       "      <td>0</td>\n",
       "    </tr>\n",
       "    <tr>\n",
       "      <th>top</th>\n",
       "      <td>474232</td>\n",
       "      <td>948293</td>\n",
       "      <td>10000</td>\n",
       "      <td>10000</td>\n",
       "      <td>5000</td>\n",
       "      <td>36 months</td>\n",
       "      <td>10.99%</td>\n",
       "      <td>311.11</td>\n",
       "      <td>B</td>\n",
       "      <td>B3</td>\n",
       "      <td>...</td>\n",
       "      <td>NaN</td>\n",
       "      <td>NaN</td>\n",
       "      <td>NaN</td>\n",
       "      <td>NaN</td>\n",
       "      <td>0</td>\n",
       "      <td>0</td>\n",
       "      <td>NaN</td>\n",
       "      <td>NaN</td>\n",
       "      <td>NaN</td>\n",
       "      <td>NaN</td>\n",
       "    </tr>\n",
       "    <tr>\n",
       "      <th>freq</th>\n",
       "      <td>1</td>\n",
       "      <td>1</td>\n",
       "      <td>2833</td>\n",
       "      <td>2741</td>\n",
       "      <td>1309</td>\n",
       "      <td>29096</td>\n",
       "      <td>956</td>\n",
       "      <td>68</td>\n",
       "      <td>12020</td>\n",
       "      <td>2917</td>\n",
       "      <td>...</td>\n",
       "      <td>NaN</td>\n",
       "      <td>NaN</td>\n",
       "      <td>NaN</td>\n",
       "      <td>NaN</td>\n",
       "      <td>37339</td>\n",
       "      <td>39678</td>\n",
       "      <td>NaN</td>\n",
       "      <td>NaN</td>\n",
       "      <td>NaN</td>\n",
       "      <td>NaN</td>\n",
       "    </tr>\n",
       "  </tbody>\n",
       "</table>\n",
       "<p>4 rows × 111 columns</p>\n",
       "</div>"
      ],
      "text/plain": [
       "            id member_id loan_amnt funded_amnt funded_amnt_inv        term  \\\n",
       "count    39717     39717     39717       39717           39717       39717   \n",
       "unique   39717     39717       885        1041            8205           2   \n",
       "top     474232    948293     10000       10000            5000   36 months   \n",
       "freq         1         1      2833        2741            1309       29096   \n",
       "\n",
       "       int_rate installment  grade sub_grade  ... num_tl_90g_dpd_24m  \\\n",
       "count     39717       39717  39717     39717  ...                  0   \n",
       "unique      371       15383      7        35  ...                  0   \n",
       "top      10.99%      311.11      B        B3  ...                NaN   \n",
       "freq        956          68  12020      2917  ...                NaN   \n",
       "\n",
       "       num_tl_op_past_12m pct_tl_nvr_dlq percent_bc_gt_75  \\\n",
       "count                   0              0                0   \n",
       "unique                  0              0                0   \n",
       "top                   NaN            NaN              NaN   \n",
       "freq                  NaN            NaN              NaN   \n",
       "\n",
       "       pub_rec_bankruptcies tax_liens tot_hi_cred_lim total_bal_ex_mort  \\\n",
       "count                 39020     39678               0                 0   \n",
       "unique                    3         1               0                 0   \n",
       "top                       0         0             NaN               NaN   \n",
       "freq                  37339     39678             NaN               NaN   \n",
       "\n",
       "       total_bc_limit total_il_high_credit_limit  \n",
       "count               0                          0  \n",
       "unique              0                          0  \n",
       "top               NaN                        NaN  \n",
       "freq              NaN                        NaN  \n",
       "\n",
       "[4 rows x 111 columns]"
      ]
     },
     "execution_count": 1506,
     "metadata": {},
     "output_type": "execute_result"
    }
   ],
   "source": [
    "#Determining the range of values each column takes\n",
    "loan.describe()"
   ]
  },
  {
   "cell_type": "code",
   "execution_count": 1507,
   "metadata": {},
   "outputs": [
    {
     "data": {
      "text/plain": [
       "id                                0\n",
       "member_id                         0\n",
       "loan_amnt                         0\n",
       "funded_amnt                       0\n",
       "funded_amnt_inv                   0\n",
       "                              ...  \n",
       "tax_liens                        39\n",
       "tot_hi_cred_lim               39717\n",
       "total_bal_ex_mort             39717\n",
       "total_bc_limit                39717\n",
       "total_il_high_credit_limit    39717\n",
       "Length: 111, dtype: int64"
      ]
     },
     "execution_count": 1507,
     "metadata": {},
     "output_type": "execute_result"
    }
   ],
   "source": [
    "#Calculating the sum of null values in each column of the dataframe\n",
    "loan.isnull().sum()"
   ]
  },
  {
   "cell_type": "code",
   "execution_count": 1508,
   "metadata": {},
   "outputs": [
    {
     "data": {
      "text/plain": [
       "emp_title                       6.19\n",
       "emp_length                      2.71\n",
       "desc                           32.58\n",
       "title                           0.03\n",
       "mths_since_last_delinq         64.66\n",
       "                               ...  \n",
       "tax_liens                       0.10\n",
       "tot_hi_cred_lim               100.00\n",
       "total_bal_ex_mort             100.00\n",
       "total_bc_limit                100.00\n",
       "total_il_high_credit_limit    100.00\n",
       "Length: 68, dtype: float64"
      ]
     },
     "execution_count": 1508,
     "metadata": {},
     "output_type": "execute_result"
    }
   ],
   "source": [
    "#Finding the columns whose total null value percentage is more than zero.\n",
    "missing = round(100*(loan.isnull().sum()/len(loan.index)), 2)\n",
    "missing.loc[missing > 0]"
   ]
  },
  {
   "cell_type": "code",
   "execution_count": 1509,
   "metadata": {},
   "outputs": [
    {
     "data": {
      "text/plain": [
       "57"
      ]
     },
     "execution_count": 1509,
     "metadata": {},
     "output_type": "execute_result"
    }
   ],
   "source": [
    "#Determining the number of missing value columns\n",
    "missing_value_columns = list(missing[missing >= 50].index)\n",
    "len(missing_value_columns)"
   ]
  },
  {
   "cell_type": "code",
   "execution_count": 1510,
   "metadata": {},
   "outputs": [
    {
     "data": {
      "text/plain": [
       "(39717, 54)"
      ]
     },
     "execution_count": 1510,
     "metadata": {},
     "output_type": "execute_result"
    }
   ],
   "source": [
    "#Determining the shape of the dataframe after dropping redundant columns\n",
    "loan = loan.drop(missing_value_columns,axis=1)\n",
    "loan.shape"
   ]
  },
  {
   "cell_type": "code",
   "execution_count": 1511,
   "metadata": {},
   "outputs": [
    {
     "data": {
      "text/plain": [
       "emp_title                      6.19\n",
       "emp_length                     2.71\n",
       "desc                          32.58\n",
       "title                          0.03\n",
       "revol_util                     0.13\n",
       "last_pymnt_d                   0.18\n",
       "last_credit_pull_d             0.01\n",
       "collections_12_mths_ex_med     0.14\n",
       "chargeoff_within_12_mths       0.14\n",
       "pub_rec_bankruptcies           1.75\n",
       "tax_liens                      0.10\n",
       "dtype: float64"
      ]
     },
     "execution_count": 1511,
     "metadata": {},
     "output_type": "execute_result"
    }
   ],
   "source": [
    "#Retrieving the columns having null values\n",
    "missing = round(100*(loan.isnull().sum()/len(loan.id)), 2)\n",
    "missing[missing != 0]"
   ]
  },
  {
   "cell_type": "code",
   "execution_count": 1512,
   "metadata": {},
   "outputs": [],
   "source": [
    "#Dropping the columns 'desc'\n",
    "loan = loan.drop(\"desc\" ,axis=1)"
   ]
  },
  {
   "cell_type": "code",
   "execution_count": 1513,
   "metadata": {},
   "outputs": [
    {
     "data": {
      "text/html": [
       "<div>\n",
       "<style scoped>\n",
       "    .dataframe tbody tr th:only-of-type {\n",
       "        vertical-align: middle;\n",
       "    }\n",
       "\n",
       "    .dataframe tbody tr th {\n",
       "        vertical-align: top;\n",
       "    }\n",
       "\n",
       "    .dataframe thead th {\n",
       "        text-align: right;\n",
       "    }\n",
       "</style>\n",
       "<table border=\"1\" class=\"dataframe\">\n",
       "  <thead>\n",
       "    <tr style=\"text-align: right;\">\n",
       "      <th></th>\n",
       "      <th>id</th>\n",
       "      <th>member_id</th>\n",
       "      <th>loan_amnt</th>\n",
       "      <th>funded_amnt</th>\n",
       "      <th>funded_amnt_inv</th>\n",
       "      <th>term</th>\n",
       "      <th>int_rate</th>\n",
       "      <th>installment</th>\n",
       "      <th>grade</th>\n",
       "      <th>sub_grade</th>\n",
       "      <th>...</th>\n",
       "      <th>last_pymnt_amnt</th>\n",
       "      <th>last_credit_pull_d</th>\n",
       "      <th>collections_12_mths_ex_med</th>\n",
       "      <th>policy_code</th>\n",
       "      <th>application_type</th>\n",
       "      <th>acc_now_delinq</th>\n",
       "      <th>chargeoff_within_12_mths</th>\n",
       "      <th>delinq_amnt</th>\n",
       "      <th>pub_rec_bankruptcies</th>\n",
       "      <th>tax_liens</th>\n",
       "    </tr>\n",
       "  </thead>\n",
       "  <tbody>\n",
       "    <tr>\n",
       "      <th>0</th>\n",
       "      <td>1077501</td>\n",
       "      <td>1296599</td>\n",
       "      <td>5000</td>\n",
       "      <td>5000</td>\n",
       "      <td>4975</td>\n",
       "      <td>36 months</td>\n",
       "      <td>10.65%</td>\n",
       "      <td>162.87</td>\n",
       "      <td>B</td>\n",
       "      <td>B2</td>\n",
       "      <td>...</td>\n",
       "      <td>171.62</td>\n",
       "      <td>May-16</td>\n",
       "      <td>0</td>\n",
       "      <td>1</td>\n",
       "      <td>INDIVIDUAL</td>\n",
       "      <td>0</td>\n",
       "      <td>0</td>\n",
       "      <td>0</td>\n",
       "      <td>0</td>\n",
       "      <td>0</td>\n",
       "    </tr>\n",
       "    <tr>\n",
       "      <th>1</th>\n",
       "      <td>1077430</td>\n",
       "      <td>1314167</td>\n",
       "      <td>2500</td>\n",
       "      <td>2500</td>\n",
       "      <td>2500</td>\n",
       "      <td>60 months</td>\n",
       "      <td>15.27%</td>\n",
       "      <td>59.83</td>\n",
       "      <td>C</td>\n",
       "      <td>C4</td>\n",
       "      <td>...</td>\n",
       "      <td>119.66</td>\n",
       "      <td>Sep-13</td>\n",
       "      <td>0</td>\n",
       "      <td>1</td>\n",
       "      <td>INDIVIDUAL</td>\n",
       "      <td>0</td>\n",
       "      <td>0</td>\n",
       "      <td>0</td>\n",
       "      <td>0</td>\n",
       "      <td>0</td>\n",
       "    </tr>\n",
       "    <tr>\n",
       "      <th>2</th>\n",
       "      <td>1077175</td>\n",
       "      <td>1313524</td>\n",
       "      <td>2400</td>\n",
       "      <td>2400</td>\n",
       "      <td>2400</td>\n",
       "      <td>36 months</td>\n",
       "      <td>15.96%</td>\n",
       "      <td>84.33</td>\n",
       "      <td>C</td>\n",
       "      <td>C5</td>\n",
       "      <td>...</td>\n",
       "      <td>649.91</td>\n",
       "      <td>May-16</td>\n",
       "      <td>0</td>\n",
       "      <td>1</td>\n",
       "      <td>INDIVIDUAL</td>\n",
       "      <td>0</td>\n",
       "      <td>0</td>\n",
       "      <td>0</td>\n",
       "      <td>0</td>\n",
       "      <td>0</td>\n",
       "    </tr>\n",
       "    <tr>\n",
       "      <th>3</th>\n",
       "      <td>1076863</td>\n",
       "      <td>1277178</td>\n",
       "      <td>10000</td>\n",
       "      <td>10000</td>\n",
       "      <td>10000</td>\n",
       "      <td>36 months</td>\n",
       "      <td>13.49%</td>\n",
       "      <td>339.31</td>\n",
       "      <td>C</td>\n",
       "      <td>C1</td>\n",
       "      <td>...</td>\n",
       "      <td>357.48</td>\n",
       "      <td>Apr-16</td>\n",
       "      <td>0</td>\n",
       "      <td>1</td>\n",
       "      <td>INDIVIDUAL</td>\n",
       "      <td>0</td>\n",
       "      <td>0</td>\n",
       "      <td>0</td>\n",
       "      <td>0</td>\n",
       "      <td>0</td>\n",
       "    </tr>\n",
       "    <tr>\n",
       "      <th>4</th>\n",
       "      <td>1075358</td>\n",
       "      <td>1311748</td>\n",
       "      <td>3000</td>\n",
       "      <td>3000</td>\n",
       "      <td>3000</td>\n",
       "      <td>60 months</td>\n",
       "      <td>12.69%</td>\n",
       "      <td>67.79</td>\n",
       "      <td>B</td>\n",
       "      <td>B5</td>\n",
       "      <td>...</td>\n",
       "      <td>67.79</td>\n",
       "      <td>May-16</td>\n",
       "      <td>0</td>\n",
       "      <td>1</td>\n",
       "      <td>INDIVIDUAL</td>\n",
       "      <td>0</td>\n",
       "      <td>0</td>\n",
       "      <td>0</td>\n",
       "      <td>0</td>\n",
       "      <td>0</td>\n",
       "    </tr>\n",
       "  </tbody>\n",
       "</table>\n",
       "<p>5 rows × 53 columns</p>\n",
       "</div>"
      ],
      "text/plain": [
       "        id member_id loan_amnt funded_amnt funded_amnt_inv        term  \\\n",
       "0  1077501   1296599      5000        5000            4975   36 months   \n",
       "1  1077430   1314167      2500        2500            2500   60 months   \n",
       "2  1077175   1313524      2400        2400            2400   36 months   \n",
       "3  1076863   1277178     10000       10000           10000   36 months   \n",
       "4  1075358   1311748      3000        3000            3000   60 months   \n",
       "\n",
       "  int_rate installment grade sub_grade  ... last_pymnt_amnt  \\\n",
       "0   10.65%      162.87     B        B2  ...          171.62   \n",
       "1   15.27%       59.83     C        C4  ...          119.66   \n",
       "2   15.96%       84.33     C        C5  ...          649.91   \n",
       "3   13.49%      339.31     C        C1  ...          357.48   \n",
       "4   12.69%       67.79     B        B5  ...           67.79   \n",
       "\n",
       "  last_credit_pull_d collections_12_mths_ex_med policy_code application_type  \\\n",
       "0             May-16                          0           1       INDIVIDUAL   \n",
       "1             Sep-13                          0           1       INDIVIDUAL   \n",
       "2             May-16                          0           1       INDIVIDUAL   \n",
       "3             Apr-16                          0           1       INDIVIDUAL   \n",
       "4             May-16                          0           1       INDIVIDUAL   \n",
       "\n",
       "  acc_now_delinq chargeoff_within_12_mths delinq_amnt pub_rec_bankruptcies  \\\n",
       "0              0                        0           0                    0   \n",
       "1              0                        0           0                    0   \n",
       "2              0                        0           0                    0   \n",
       "3              0                        0           0                    0   \n",
       "4              0                        0           0                    0   \n",
       "\n",
       "  tax_liens  \n",
       "0         0  \n",
       "1         0  \n",
       "2         0  \n",
       "3         0  \n",
       "4         0  \n",
       "\n",
       "[5 rows x 53 columns]"
      ]
     },
     "execution_count": 1513,
     "metadata": {},
     "output_type": "execute_result"
    }
   ],
   "source": [
    "loan.head()"
   ]
  },
  {
   "cell_type": "code",
   "execution_count": 1514,
   "metadata": {
    "scrolled": false
   },
   "outputs": [
    {
     "name": "stdout",
     "output_type": "stream",
     "text": [
      "id\n",
      "39717\n",
      "member_id\n",
      "39717\n",
      "loan_amnt\n",
      "885\n",
      "funded_amnt\n",
      "1041\n",
      "funded_amnt_inv\n",
      "8205\n",
      "term\n",
      "2\n",
      "int_rate\n",
      "371\n",
      "installment\n",
      "15383\n",
      "grade\n",
      "7\n",
      "sub_grade\n",
      "35\n",
      "emp_title\n",
      "28821\n",
      "emp_length\n",
      "12\n",
      "home_ownership\n",
      "5\n",
      "annual_inc\n",
      "5318\n",
      "verification_status\n",
      "3\n",
      "issue_d\n",
      "55\n",
      "loan_status\n",
      "3\n",
      "pymnt_plan\n",
      "1\n",
      "url\n",
      "39717\n",
      "purpose\n",
      "14\n",
      "title\n",
      "19616\n",
      "zip_code\n",
      "823\n",
      "addr_state\n",
      "50\n",
      "dti\n",
      "2868\n",
      "delinq_2yrs\n",
      "11\n",
      "earliest_cr_line\n",
      "526\n",
      "inq_last_6mths\n",
      "9\n",
      "open_acc\n",
      "40\n",
      "pub_rec\n",
      "5\n",
      "revol_bal\n",
      "21711\n",
      "revol_util\n",
      "1090\n",
      "total_acc\n",
      "82\n",
      "initial_list_status\n",
      "1\n",
      "out_prncp\n",
      "1137\n",
      "out_prncp_inv\n",
      "1138\n",
      "total_pymnt\n",
      "37850\n",
      "total_pymnt_inv\n",
      "37518\n",
      "total_rec_prncp\n",
      "7976\n",
      "total_rec_int\n",
      "35148\n",
      "total_rec_late_fee\n",
      "1356\n",
      "recoveries\n",
      "4040\n",
      "collection_recovery_fee\n",
      "2616\n",
      "last_pymnt_d\n",
      "102\n",
      "last_pymnt_amnt\n",
      "34930\n",
      "last_credit_pull_d\n",
      "107\n",
      "collections_12_mths_ex_med\n",
      "2\n",
      "policy_code\n",
      "1\n",
      "application_type\n",
      "1\n",
      "acc_now_delinq\n",
      "1\n",
      "chargeoff_within_12_mths\n",
      "2\n",
      "delinq_amnt\n",
      "1\n",
      "pub_rec_bankruptcies\n",
      "4\n",
      "tax_liens\n",
      "2\n"
     ]
    }
   ],
   "source": [
    "#Determining the number of unique values in each column\n",
    "for col in list(loan):\n",
    "    print(col, end ='\\n')\n",
    "    print(len(loan[col].unique()))"
   ]
  },
  {
   "cell_type": "markdown",
   "metadata": {},
   "source": [
    "#### Analysing the categorical variables"
   ]
  },
  {
   "cell_type": "code",
   "execution_count": 1515,
   "metadata": {},
   "outputs": [
    {
     "data": {
      "text/plain": [
       "array(['10+ years', '< 1 year', '1 year', '3 years', '8 years', '9 years',\n",
       "       '4 years', '5 years', '6 years', '2 years', '7 years', nan],\n",
       "      dtype=object)"
      ]
     },
     "execution_count": 1515,
     "metadata": {},
     "output_type": "execute_result"
    }
   ],
   "source": [
    "loan.emp_length.unique()"
   ]
  },
  {
   "cell_type": "code",
   "execution_count": 1516,
   "metadata": {},
   "outputs": [
    {
     "data": {
      "text/plain": [
       "array(['0', nan], dtype=object)"
      ]
     },
     "execution_count": 1516,
     "metadata": {},
     "output_type": "execute_result"
    }
   ],
   "source": [
    "loan.collections_12_mths_ex_med.unique()"
   ]
  },
  {
   "cell_type": "code",
   "execution_count": 1517,
   "metadata": {},
   "outputs": [
    {
     "data": {
      "text/plain": [
       "array(['0', nan], dtype=object)"
      ]
     },
     "execution_count": 1517,
     "metadata": {},
     "output_type": "execute_result"
    }
   ],
   "source": [
    "loan.chargeoff_within_12_mths.unique()"
   ]
  },
  {
   "cell_type": "code",
   "execution_count": 1518,
   "metadata": {},
   "outputs": [
    {
     "data": {
      "text/plain": [
       "array(['0', '1', '2', nan], dtype=object)"
      ]
     },
     "execution_count": 1518,
     "metadata": {},
     "output_type": "execute_result"
    }
   ],
   "source": [
    "loan.pub_rec_bankruptcies.unique()"
   ]
  },
  {
   "cell_type": "code",
   "execution_count": 1519,
   "metadata": {},
   "outputs": [
    {
     "data": {
      "text/plain": [
       "array(['0', nan], dtype=object)"
      ]
     },
     "execution_count": 1519,
     "metadata": {},
     "output_type": "execute_result"
    }
   ],
   "source": [
    "loan.tax_liens.unique()"
   ]
  },
  {
   "cell_type": "code",
   "execution_count": 1520,
   "metadata": {},
   "outputs": [
    {
     "data": {
      "text/plain": [
       "(39717, 50)"
      ]
     },
     "execution_count": 1520,
     "metadata": {},
     "output_type": "execute_result"
    }
   ],
   "source": [
    "drop_columnlist = ['collections_12_mths_ex_med', 'chargeoff_within_12_mths', 'tax_liens']\n",
    "loan = loan.drop(drop_columnlist,axis=1)\n",
    "loan.shape"
   ]
  },
  {
   "cell_type": "code",
   "execution_count": 1521,
   "metadata": {},
   "outputs": [
    {
     "data": {
      "text/plain": [
       "0    37339\n",
       "1     1674\n",
       "2        7\n",
       "Name: pub_rec_bankruptcies, dtype: int64"
      ]
     },
     "execution_count": 1521,
     "metadata": {},
     "output_type": "execute_result"
    }
   ],
   "source": [
    "loan.pub_rec_bankruptcies.value_counts()"
   ]
  },
  {
   "cell_type": "code",
   "execution_count": 1522,
   "metadata": {
    "scrolled": true
   },
   "outputs": [],
   "source": [
    "loan = loan[~loan.pub_rec_bankruptcies.isnull()]"
   ]
  },
  {
   "cell_type": "code",
   "execution_count": 1523,
   "metadata": {},
   "outputs": [
    {
     "data": {
      "text/plain": [
       "emp_title       6.19\n",
       "emp_length      2.75\n",
       "title           0.03\n",
       "revol_util      0.13\n",
       "last_pymnt_d    0.18\n",
       "dtype: float64"
      ]
     },
     "execution_count": 1523,
     "metadata": {},
     "output_type": "execute_result"
    }
   ],
   "source": [
    "nulls = round(100*(loan.isnull().sum()/len(loan.id)), 2) \n",
    "nulls[nulls > 0]"
   ]
  },
  {
   "cell_type": "code",
   "execution_count": 1524,
   "metadata": {},
   "outputs": [],
   "source": [
    "loan=loan[~loan.emp_title.isnull()]\n",
    "loan=loan[~loan.emp_length.isnull()]\n",
    "loan=loan[~loan.title.isnull()]\n",
    "loan=loan[~loan.revol_util.isnull()]\n",
    "loan=loan[~loan.last_pymnt_d.isnull()]"
   ]
  },
  {
   "cell_type": "code",
   "execution_count": 1525,
   "metadata": {},
   "outputs": [
    {
     "data": {
      "text/plain": [
       "(36433, 50)"
      ]
     },
     "execution_count": 1525,
     "metadata": {},
     "output_type": "execute_result"
    }
   ],
   "source": [
    "loan.shape"
   ]
  },
  {
   "cell_type": "code",
   "execution_count": 1526,
   "metadata": {},
   "outputs": [
    {
     "data": {
      "text/plain": [
       "id                         0.0\n",
       "member_id                  0.0\n",
       "loan_amnt                  0.0\n",
       "funded_amnt                0.0\n",
       "funded_amnt_inv            0.0\n",
       "term                       0.0\n",
       "int_rate                   0.0\n",
       "installment                0.0\n",
       "grade                      0.0\n",
       "sub_grade                  0.0\n",
       "emp_title                  0.0\n",
       "emp_length                 0.0\n",
       "home_ownership             0.0\n",
       "annual_inc                 0.0\n",
       "verification_status        0.0\n",
       "issue_d                    0.0\n",
       "loan_status                0.0\n",
       "pymnt_plan                 0.0\n",
       "url                        0.0\n",
       "purpose                    0.0\n",
       "title                      0.0\n",
       "zip_code                   0.0\n",
       "addr_state                 0.0\n",
       "dti                        0.0\n",
       "delinq_2yrs                0.0\n",
       "earliest_cr_line           0.0\n",
       "inq_last_6mths             0.0\n",
       "open_acc                   0.0\n",
       "pub_rec                    0.0\n",
       "revol_bal                  0.0\n",
       "revol_util                 0.0\n",
       "total_acc                  0.0\n",
       "initial_list_status        0.0\n",
       "out_prncp                  0.0\n",
       "out_prncp_inv              0.0\n",
       "total_pymnt                0.0\n",
       "total_pymnt_inv            0.0\n",
       "total_rec_prncp            0.0\n",
       "total_rec_int              0.0\n",
       "total_rec_late_fee         0.0\n",
       "recoveries                 0.0\n",
       "collection_recovery_fee    0.0\n",
       "last_pymnt_d               0.0\n",
       "last_pymnt_amnt            0.0\n",
       "last_credit_pull_d         0.0\n",
       "policy_code                0.0\n",
       "application_type           0.0\n",
       "acc_now_delinq             0.0\n",
       "delinq_amnt                0.0\n",
       "pub_rec_bankruptcies       0.0\n",
       "dtype: float64"
      ]
     },
     "execution_count": 1526,
     "metadata": {},
     "output_type": "execute_result"
    }
   ],
   "source": [
    "#Re-verifying the number of null values in all the columns\n",
    "round(100*(loan.isnull().sum()/len(loan.id)), 2)"
   ]
  },
  {
   "cell_type": "code",
   "execution_count": 1527,
   "metadata": {},
   "outputs": [],
   "source": [
    "#copying the cleaned dataframe to a new dataframe\n",
    "clean_loan = loan[:]"
   ]
  },
  {
   "cell_type": "code",
   "execution_count": 1528,
   "metadata": {},
   "outputs": [
    {
     "data": {
      "text/plain": [
       "acc_now_delinq                 1\n",
       "application_type               1\n",
       "policy_code                    1\n",
       "initial_list_status            1\n",
       "delinq_amnt                    1\n",
       "pymnt_plan                     1\n",
       "term                           2\n",
       "pub_rec_bankruptcies           3\n",
       "loan_status                    3\n",
       "verification_status            3\n",
       "home_ownership                 4\n",
       "pub_rec                        5\n",
       "grade                          7\n",
       "inq_last_6mths                 9\n",
       "delinq_2yrs                   11\n",
       "emp_length                    11\n",
       "purpose                       14\n",
       "sub_grade                     35\n",
       "open_acc                      38\n",
       "addr_state                    49\n",
       "issue_d                       52\n",
       "total_acc                     79\n",
       "last_credit_pull_d            96\n",
       "last_pymnt_d                  97\n",
       "int_rate                     334\n",
       "earliest_cr_line             510\n",
       "zip_code                     806\n",
       "loan_amnt                    863\n",
       "funded_amnt                 1024\n",
       "out_prncp                   1064\n",
       "out_prncp_inv               1065\n",
       "revol_util                  1082\n",
       "total_rec_late_fee          1194\n",
       "collection_recovery_fee     2386\n",
       "dti                         2857\n",
       "recoveries                  3585\n",
       "annual_inc                  4924\n",
       "total_rec_prncp             7254\n",
       "funded_amnt_inv             7474\n",
       "installment                14367\n",
       "title                      17954\n",
       "revol_bal                  20790\n",
       "emp_title                  28207\n",
       "last_pymnt_amnt            32467\n",
       "total_rec_int              32523\n",
       "total_pymnt_inv            34524\n",
       "total_pymnt                34802\n",
       "url                        36433\n",
       "member_id                  36433\n",
       "id                         36433\n",
       "dtype: int64"
      ]
     },
     "execution_count": 1528,
     "metadata": {},
     "output_type": "execute_result"
    }
   ],
   "source": [
    "#Determining thee number of unique values in each column\n",
    "clean_loan.nunique().sort_values(ascending = True)"
   ]
  },
  {
   "cell_type": "code",
   "execution_count": 1529,
   "metadata": {},
   "outputs": [],
   "source": [
    "#Drop redundant columns\n",
    "clean_loan = clean_loan.drop(columns=['acc_now_delinq','application_type','policy_code','initial_list_status','delinq_amnt','pymnt_plan'], axis = 1)"
   ]
  },
  {
   "cell_type": "markdown",
   "metadata": {},
   "source": [
    "There are other columns which do not contribute to our analysis and hence can be dropped."
   ]
  },
  {
   "cell_type": "code",
   "execution_count": 1530,
   "metadata": {},
   "outputs": [
    {
     "data": {
      "text/plain": [
       "(36433, 39)"
      ]
     },
     "execution_count": 1530,
     "metadata": {},
     "output_type": "execute_result"
    }
   ],
   "source": [
    "#Drop redundant columns\n",
    "clean_loan = clean_loan.drop(columns=['id','member_id','funded_amnt_inv','url','zip_code'], axis=1)\n",
    "clean_loan.shape"
   ]
  },
  {
   "cell_type": "code",
   "execution_count": 1531,
   "metadata": {
    "scrolled": true
   },
   "outputs": [],
   "source": [
    "#Write the cleaned dataset to a new file\n",
    "clean_loan.to_csv('clean_loan_final.csv', encoding='utf-8', index=False)"
   ]
  },
  {
   "cell_type": "code",
   "execution_count": 1532,
   "metadata": {
    "scrolled": false
   },
   "outputs": [
    {
     "data": {
      "text/html": [
       "<div>\n",
       "<style scoped>\n",
       "    .dataframe tbody tr th:only-of-type {\n",
       "        vertical-align: middle;\n",
       "    }\n",
       "\n",
       "    .dataframe tbody tr th {\n",
       "        vertical-align: top;\n",
       "    }\n",
       "\n",
       "    .dataframe thead th {\n",
       "        text-align: right;\n",
       "    }\n",
       "</style>\n",
       "<table border=\"1\" class=\"dataframe\">\n",
       "  <thead>\n",
       "    <tr style=\"text-align: right;\">\n",
       "      <th></th>\n",
       "      <th>loan_amnt</th>\n",
       "      <th>funded_amnt</th>\n",
       "      <th>term</th>\n",
       "      <th>int_rate</th>\n",
       "      <th>installment</th>\n",
       "      <th>grade</th>\n",
       "      <th>sub_grade</th>\n",
       "      <th>emp_title</th>\n",
       "      <th>emp_length</th>\n",
       "      <th>home_ownership</th>\n",
       "      <th>...</th>\n",
       "      <th>total_pymnt_inv</th>\n",
       "      <th>total_rec_prncp</th>\n",
       "      <th>total_rec_int</th>\n",
       "      <th>total_rec_late_fee</th>\n",
       "      <th>recoveries</th>\n",
       "      <th>collection_recovery_fee</th>\n",
       "      <th>last_pymnt_d</th>\n",
       "      <th>last_pymnt_amnt</th>\n",
       "      <th>last_credit_pull_d</th>\n",
       "      <th>pub_rec_bankruptcies</th>\n",
       "    </tr>\n",
       "  </thead>\n",
       "  <tbody>\n",
       "    <tr>\n",
       "      <th>1</th>\n",
       "      <td>2500</td>\n",
       "      <td>2500</td>\n",
       "      <td>60 months</td>\n",
       "      <td>15.27%</td>\n",
       "      <td>59.83</td>\n",
       "      <td>C</td>\n",
       "      <td>C4</td>\n",
       "      <td>Ryder</td>\n",
       "      <td>&lt; 1 year</td>\n",
       "      <td>RENT</td>\n",
       "      <td>...</td>\n",
       "      <td>1008.71</td>\n",
       "      <td>456.46</td>\n",
       "      <td>435.17</td>\n",
       "      <td>0</td>\n",
       "      <td>117.08</td>\n",
       "      <td>1.11</td>\n",
       "      <td>Apr-13</td>\n",
       "      <td>119.66</td>\n",
       "      <td>Sep-13</td>\n",
       "      <td>0</td>\n",
       "    </tr>\n",
       "    <tr>\n",
       "      <th>3</th>\n",
       "      <td>10000</td>\n",
       "      <td>10000</td>\n",
       "      <td>36 months</td>\n",
       "      <td>13.49%</td>\n",
       "      <td>339.31</td>\n",
       "      <td>C</td>\n",
       "      <td>C1</td>\n",
       "      <td>AIR RESOURCES BOARD</td>\n",
       "      <td>10+ years</td>\n",
       "      <td>RENT</td>\n",
       "      <td>...</td>\n",
       "      <td>12231.89</td>\n",
       "      <td>10000</td>\n",
       "      <td>2214.92</td>\n",
       "      <td>16.97</td>\n",
       "      <td>0</td>\n",
       "      <td>0</td>\n",
       "      <td>Jan-15</td>\n",
       "      <td>357.48</td>\n",
       "      <td>Apr-16</td>\n",
       "      <td>0</td>\n",
       "    </tr>\n",
       "    <tr>\n",
       "      <th>4</th>\n",
       "      <td>3000</td>\n",
       "      <td>3000</td>\n",
       "      <td>60 months</td>\n",
       "      <td>12.69%</td>\n",
       "      <td>67.79</td>\n",
       "      <td>B</td>\n",
       "      <td>B5</td>\n",
       "      <td>University Medical Group</td>\n",
       "      <td>1 year</td>\n",
       "      <td>RENT</td>\n",
       "      <td>...</td>\n",
       "      <td>3513.33</td>\n",
       "      <td>2475.94</td>\n",
       "      <td>1037.39</td>\n",
       "      <td>0</td>\n",
       "      <td>0</td>\n",
       "      <td>0</td>\n",
       "      <td>May-16</td>\n",
       "      <td>67.79</td>\n",
       "      <td>May-16</td>\n",
       "      <td>0</td>\n",
       "    </tr>\n",
       "    <tr>\n",
       "      <th>5</th>\n",
       "      <td>5000</td>\n",
       "      <td>5000</td>\n",
       "      <td>36 months</td>\n",
       "      <td>7.90%</td>\n",
       "      <td>156.46</td>\n",
       "      <td>A</td>\n",
       "      <td>A4</td>\n",
       "      <td>Veolia Transportaton</td>\n",
       "      <td>3 years</td>\n",
       "      <td>RENT</td>\n",
       "      <td>...</td>\n",
       "      <td>5632.21</td>\n",
       "      <td>5000</td>\n",
       "      <td>632.21</td>\n",
       "      <td>0</td>\n",
       "      <td>0</td>\n",
       "      <td>0</td>\n",
       "      <td>Jan-15</td>\n",
       "      <td>161.03</td>\n",
       "      <td>Jan-16</td>\n",
       "      <td>0</td>\n",
       "    </tr>\n",
       "    <tr>\n",
       "      <th>6</th>\n",
       "      <td>7000</td>\n",
       "      <td>7000</td>\n",
       "      <td>60 months</td>\n",
       "      <td>15.96%</td>\n",
       "      <td>170.08</td>\n",
       "      <td>C</td>\n",
       "      <td>C5</td>\n",
       "      <td>Southern Star Photography</td>\n",
       "      <td>8 years</td>\n",
       "      <td>RENT</td>\n",
       "      <td>...</td>\n",
       "      <td>10110.84</td>\n",
       "      <td>6985.61</td>\n",
       "      <td>3125.23</td>\n",
       "      <td>0</td>\n",
       "      <td>0</td>\n",
       "      <td>0</td>\n",
       "      <td>May-16</td>\n",
       "      <td>1313.76</td>\n",
       "      <td>May-16</td>\n",
       "      <td>0</td>\n",
       "    </tr>\n",
       "    <tr>\n",
       "      <th>7</th>\n",
       "      <td>3000</td>\n",
       "      <td>3000</td>\n",
       "      <td>36 months</td>\n",
       "      <td>18.64%</td>\n",
       "      <td>109.43</td>\n",
       "      <td>E</td>\n",
       "      <td>E1</td>\n",
       "      <td>MKC Accounting</td>\n",
       "      <td>9 years</td>\n",
       "      <td>RENT</td>\n",
       "      <td>...</td>\n",
       "      <td>3939.14</td>\n",
       "      <td>3000</td>\n",
       "      <td>939.14</td>\n",
       "      <td>0</td>\n",
       "      <td>0</td>\n",
       "      <td>0</td>\n",
       "      <td>Jan-15</td>\n",
       "      <td>111.34</td>\n",
       "      <td>Dec-14</td>\n",
       "      <td>0</td>\n",
       "    </tr>\n",
       "    <tr>\n",
       "      <th>9</th>\n",
       "      <td>5375</td>\n",
       "      <td>5375</td>\n",
       "      <td>60 months</td>\n",
       "      <td>12.69%</td>\n",
       "      <td>121.45</td>\n",
       "      <td>B</td>\n",
       "      <td>B5</td>\n",
       "      <td>Starbucks</td>\n",
       "      <td>&lt; 1 year</td>\n",
       "      <td>RENT</td>\n",
       "      <td>...</td>\n",
       "      <td>1469.34</td>\n",
       "      <td>673.48</td>\n",
       "      <td>533.42</td>\n",
       "      <td>0</td>\n",
       "      <td>269.29</td>\n",
       "      <td>2.52</td>\n",
       "      <td>Nov-12</td>\n",
       "      <td>121.45</td>\n",
       "      <td>Mar-13</td>\n",
       "      <td>0</td>\n",
       "    </tr>\n",
       "    <tr>\n",
       "      <th>10</th>\n",
       "      <td>6500</td>\n",
       "      <td>6500</td>\n",
       "      <td>60 months</td>\n",
       "      <td>14.65%</td>\n",
       "      <td>153.45</td>\n",
       "      <td>C</td>\n",
       "      <td>C3</td>\n",
       "      <td>Southwest Rural metro</td>\n",
       "      <td>5 years</td>\n",
       "      <td>OWN</td>\n",
       "      <td>...</td>\n",
       "      <td>7678.02</td>\n",
       "      <td>6500</td>\n",
       "      <td>1178.02</td>\n",
       "      <td>0</td>\n",
       "      <td>0</td>\n",
       "      <td>0</td>\n",
       "      <td>Jun-13</td>\n",
       "      <td>1655.54</td>\n",
       "      <td>Dec-15</td>\n",
       "      <td>0</td>\n",
       "    </tr>\n",
       "    <tr>\n",
       "      <th>11</th>\n",
       "      <td>12000</td>\n",
       "      <td>12000</td>\n",
       "      <td>36 months</td>\n",
       "      <td>12.69%</td>\n",
       "      <td>402.54</td>\n",
       "      <td>B</td>\n",
       "      <td>B5</td>\n",
       "      <td>UCLA</td>\n",
       "      <td>10+ years</td>\n",
       "      <td>OWN</td>\n",
       "      <td>...</td>\n",
       "      <td>13947.99</td>\n",
       "      <td>12000</td>\n",
       "      <td>1947.99</td>\n",
       "      <td>0</td>\n",
       "      <td>0</td>\n",
       "      <td>0</td>\n",
       "      <td>Sep-13</td>\n",
       "      <td>6315.3</td>\n",
       "      <td>Aug-13</td>\n",
       "      <td>0</td>\n",
       "    </tr>\n",
       "    <tr>\n",
       "      <th>12</th>\n",
       "      <td>9000</td>\n",
       "      <td>9000</td>\n",
       "      <td>36 months</td>\n",
       "      <td>13.49%</td>\n",
       "      <td>305.38</td>\n",
       "      <td>C</td>\n",
       "      <td>C1</td>\n",
       "      <td>Va. Dept of Conservation/Recreation</td>\n",
       "      <td>&lt; 1 year</td>\n",
       "      <td>RENT</td>\n",
       "      <td>...</td>\n",
       "      <td>2270.7</td>\n",
       "      <td>1256.14</td>\n",
       "      <td>570.26</td>\n",
       "      <td>0</td>\n",
       "      <td>444.3</td>\n",
       "      <td>4.16</td>\n",
       "      <td>Jul-12</td>\n",
       "      <td>305.38</td>\n",
       "      <td>Nov-12</td>\n",
       "      <td>0</td>\n",
       "    </tr>\n",
       "  </tbody>\n",
       "</table>\n",
       "<p>10 rows × 39 columns</p>\n",
       "</div>"
      ],
      "text/plain": [
       "   loan_amnt funded_amnt        term int_rate installment grade sub_grade  \\\n",
       "1       2500        2500   60 months   15.27%       59.83     C        C4   \n",
       "3      10000       10000   36 months   13.49%      339.31     C        C1   \n",
       "4       3000        3000   60 months   12.69%       67.79     B        B5   \n",
       "5       5000        5000   36 months    7.90%      156.46     A        A4   \n",
       "6       7000        7000   60 months   15.96%      170.08     C        C5   \n",
       "7       3000        3000   36 months   18.64%      109.43     E        E1   \n",
       "9       5375        5375   60 months   12.69%      121.45     B        B5   \n",
       "10      6500        6500   60 months   14.65%      153.45     C        C3   \n",
       "11     12000       12000   36 months   12.69%      402.54     B        B5   \n",
       "12      9000        9000   36 months   13.49%      305.38     C        C1   \n",
       "\n",
       "                              emp_title emp_length home_ownership  ...  \\\n",
       "1                                 Ryder   < 1 year           RENT  ...   \n",
       "3                   AIR RESOURCES BOARD  10+ years           RENT  ...   \n",
       "4              University Medical Group     1 year           RENT  ...   \n",
       "5                  Veolia Transportaton    3 years           RENT  ...   \n",
       "6             Southern Star Photography    8 years           RENT  ...   \n",
       "7                       MKC Accounting     9 years           RENT  ...   \n",
       "9                             Starbucks   < 1 year           RENT  ...   \n",
       "10                Southwest Rural metro    5 years            OWN  ...   \n",
       "11                                 UCLA  10+ years            OWN  ...   \n",
       "12  Va. Dept of Conservation/Recreation   < 1 year           RENT  ...   \n",
       "\n",
       "   total_pymnt_inv total_rec_prncp total_rec_int total_rec_late_fee  \\\n",
       "1          1008.71          456.46        435.17                  0   \n",
       "3         12231.89           10000       2214.92              16.97   \n",
       "4          3513.33         2475.94       1037.39                  0   \n",
       "5          5632.21            5000        632.21                  0   \n",
       "6         10110.84         6985.61       3125.23                  0   \n",
       "7          3939.14            3000        939.14                  0   \n",
       "9          1469.34          673.48        533.42                  0   \n",
       "10         7678.02            6500       1178.02                  0   \n",
       "11        13947.99           12000       1947.99                  0   \n",
       "12          2270.7         1256.14        570.26                  0   \n",
       "\n",
       "   recoveries collection_recovery_fee last_pymnt_d last_pymnt_amnt  \\\n",
       "1      117.08                    1.11       Apr-13          119.66   \n",
       "3           0                       0       Jan-15          357.48   \n",
       "4           0                       0       May-16           67.79   \n",
       "5           0                       0       Jan-15          161.03   \n",
       "6           0                       0       May-16         1313.76   \n",
       "7           0                       0       Jan-15          111.34   \n",
       "9      269.29                    2.52       Nov-12          121.45   \n",
       "10          0                       0       Jun-13         1655.54   \n",
       "11          0                       0       Sep-13          6315.3   \n",
       "12      444.3                    4.16       Jul-12          305.38   \n",
       "\n",
       "   last_credit_pull_d pub_rec_bankruptcies  \n",
       "1              Sep-13                    0  \n",
       "3              Apr-16                    0  \n",
       "4              May-16                    0  \n",
       "5              Jan-16                    0  \n",
       "6              May-16                    0  \n",
       "7              Dec-14                    0  \n",
       "9              Mar-13                    0  \n",
       "10             Dec-15                    0  \n",
       "11             Aug-13                    0  \n",
       "12             Nov-12                    0  \n",
       "\n",
       "[10 rows x 39 columns]"
      ]
     },
     "execution_count": 1532,
     "metadata": {},
     "output_type": "execute_result"
    }
   ],
   "source": [
    "#copy the cleaned dataset to a new dataframe\n",
    "clean_loan_final = clean_loan[:]\n",
    "clean_loan_final.head(10)"
   ]
  },
  {
   "cell_type": "code",
   "execution_count": 1533,
   "metadata": {},
   "outputs": [
    {
     "data": {
      "text/plain": [
       "1    15.27%\n",
       "3    13.49%\n",
       "4    12.69%\n",
       "5     7.90%\n",
       "6    15.96%\n",
       "Name: int_rate, dtype: object"
      ]
     },
     "execution_count": 1533,
     "metadata": {},
     "output_type": "execute_result"
    }
   ],
   "source": [
    "#Analysing int-rate Column\n",
    "clean_loan_final.int_rate.head()"
   ]
  },
  {
   "cell_type": "code",
   "execution_count": 1534,
   "metadata": {},
   "outputs": [
    {
     "data": {
      "text/plain": [
       "1    15.27\n",
       "3    13.49\n",
       "4    12.69\n",
       "5     7.90\n",
       "6    15.96\n",
       "Name: int_rate, dtype: float64"
      ]
     },
     "execution_count": 1534,
     "metadata": {},
     "output_type": "execute_result"
    }
   ],
   "source": [
    "clean_loan_final['int_rate'] = clean_loan_final.int_rate.str.strip('%').astype('float')\n",
    "clean_loan_final.int_rate.head()"
   ]
  },
  {
   "cell_type": "code",
   "execution_count": 1535,
   "metadata": {},
   "outputs": [
    {
     "data": {
      "text/plain": [
       "1     9.40%\n",
       "3       21%\n",
       "4    53.90%\n",
       "5    28.30%\n",
       "6    85.60%\n",
       "Name: revol_util, dtype: object"
      ]
     },
     "execution_count": 1535,
     "metadata": {},
     "output_type": "execute_result"
    }
   ],
   "source": [
    "clean_loan_final.revol_util.head()"
   ]
  },
  {
   "cell_type": "code",
   "execution_count": 1536,
   "metadata": {
    "scrolled": true
   },
   "outputs": [
    {
     "data": {
      "text/plain": [
       "1     9.4\n",
       "3    21.0\n",
       "4    53.9\n",
       "5    28.3\n",
       "6    85.6\n",
       "Name: revol_util, dtype: float64"
      ]
     },
     "execution_count": 1536,
     "metadata": {},
     "output_type": "execute_result"
    }
   ],
   "source": [
    "clean_loan_final['revol_util'] = clean_loan_final['revol_util'].str.strip('%').astype('float')\n",
    "clean_loan_final.revol_util.head()"
   ]
  },
  {
   "cell_type": "code",
   "execution_count": 1537,
   "metadata": {},
   "outputs": [
    {
     "data": {
      "text/plain": [
       "array(['< 1 year', '10+ years', '1 year', '3 years', '8 years', '9 years',\n",
       "       '5 years', '4 years', '6 years', '2 years', '7 years'],\n",
       "      dtype=object)"
      ]
     },
     "execution_count": 1537,
     "metadata": {},
     "output_type": "execute_result"
    }
   ],
   "source": [
    "clean_loan_final.emp_length.unique()"
   ]
  },
  {
   "cell_type": "code",
   "execution_count": 1538,
   "metadata": {},
   "outputs": [
    {
     "data": {
      "text/plain": [
       "10+ years    8407\n",
       "2 years      4178\n",
       "< 1 year     4052\n",
       "3 years      3914\n",
       "4 years      3297\n",
       "5 years      3129\n",
       "1 year       3026\n",
       "6 years      2121\n",
       "7 years      1697\n",
       "8 years      1405\n",
       "9 years      1207\n",
       "Name: emp_length, dtype: int64"
      ]
     },
     "execution_count": 1538,
     "metadata": {},
     "output_type": "execute_result"
    }
   ],
   "source": [
    "clean_loan_final.emp_length.value_counts()"
   ]
  },
  {
   "cell_type": "code",
   "execution_count": 1539,
   "metadata": {},
   "outputs": [],
   "source": [
    "emp_length_dict = {\n",
    "    '< 1 year' : 0,\n",
    "    '1 year' : 1,\n",
    "    '2 years' : 2,\n",
    "    '3 years' : 3,\n",
    "    '4 years' : 4,\n",
    "    '5 years' : 5,\n",
    "    '6 years' : 6,\n",
    "    '7 years' : 7,\n",
    "    '8 years' : 8,\n",
    "    '9 years' : 9,\n",
    "    '10+ years' : 10\n",
    "}"
   ]
  },
  {
   "cell_type": "code",
   "execution_count": 1540,
   "metadata": {},
   "outputs": [
    {
     "data": {
      "text/plain": [
       "{'< 1 year': 0,\n",
       " '1 year': 1,\n",
       " '2 years': 2,\n",
       " '3 years': 3,\n",
       " '4 years': 4,\n",
       " '5 years': 5,\n",
       " '6 years': 6,\n",
       " '7 years': 7,\n",
       " '8 years': 8,\n",
       " '9 years': 9,\n",
       " '10+ years': 10}"
      ]
     },
     "execution_count": 1540,
     "metadata": {},
     "output_type": "execute_result"
    }
   ],
   "source": [
    "emp_length_dict"
   ]
  },
  {
   "cell_type": "code",
   "execution_count": 1541,
   "metadata": {},
   "outputs": [],
   "source": [
    "clean_loan_final = clean_loan.replace({\"emp_length\": emp_length_dict })"
   ]
  },
  {
   "cell_type": "code",
   "execution_count": 1542,
   "metadata": {},
   "outputs": [
    {
     "data": {
      "text/plain": [
       " 36 months    26377\n",
       " 60 months    10056\n",
       "Name: term, dtype: int64"
      ]
     },
     "execution_count": 1542,
     "metadata": {},
     "output_type": "execute_result"
    }
   ],
   "source": [
    "clean_loan_final.term.value_counts()"
   ]
  },
  {
   "cell_type": "code",
   "execution_count": 1543,
   "metadata": {},
   "outputs": [],
   "source": [
    "clean_loan_final['term'] = clean_loan_final.term.apply(lambda x: x.split()[0])"
   ]
  },
  {
   "cell_type": "code",
   "execution_count": 1544,
   "metadata": {},
   "outputs": [
    {
     "data": {
      "text/plain": [
       "36    26377\n",
       "60    10056\n",
       "Name: term, dtype: int64"
      ]
     },
     "execution_count": 1544,
     "metadata": {},
     "output_type": "execute_result"
    }
   ],
   "source": [
    "clean_loan_final.term.value_counts()"
   ]
  },
  {
   "cell_type": "code",
   "execution_count": 1545,
   "metadata": {},
   "outputs": [
    {
     "data": {
      "text/plain": [
       "1     Dec-11\n",
       "3     Dec-11\n",
       "4     Dec-11\n",
       "5     Dec-11\n",
       "6     Dec-11\n",
       "7     Dec-11\n",
       "9     Dec-11\n",
       "10    Dec-11\n",
       "11    Dec-11\n",
       "12    Dec-11\n",
       "13    Dec-11\n",
       "14    Dec-11\n",
       "15    Dec-11\n",
       "16    Dec-11\n",
       "17    Dec-11\n",
       "18    Dec-11\n",
       "19    Dec-11\n",
       "20    Dec-11\n",
       "21    Dec-11\n",
       "22    Dec-11\n",
       "Name: issue_d, dtype: object"
      ]
     },
     "execution_count": 1545,
     "metadata": {},
     "output_type": "execute_result"
    }
   ],
   "source": [
    "clean_loan_final['issue_d'].head(20)"
   ]
  },
  {
   "cell_type": "code",
   "execution_count": 1546,
   "metadata": {},
   "outputs": [],
   "source": [
    "clean_loan_final['total_pymnt'] = clean_loan_final['total_pymnt'].astype(float).round(decimals=2)\n",
    "clean_loan_final['total_rec_late_fee'] = clean_loan_final['total_rec_late_fee'].astype(float).round(decimals=2)\n",
    "clean_loan_final['collection_recovery_fee'] = clean_loan_final['collection_recovery_fee'].astype(float).round(decimals=2)"
   ]
  },
  {
   "cell_type": "code",
   "execution_count": 1547,
   "metadata": {},
   "outputs": [],
   "source": [
    "datetime_columns=['issue_d','earliest_cr_line','last_pymnt_d','last_credit_pull_d']"
   ]
  },
  {
   "cell_type": "code",
   "execution_count": 1548,
   "metadata": {},
   "outputs": [],
   "source": [
    "clean_loan_final.issue_d = pd.to_datetime(clean_loan_final.issue_d, format='%b-%y')\n",
    "clean_loan_final.earliest_cr_line = pd.to_datetime(clean_loan_final.earliest_cr_line, format='%b-%y')\n",
    "clean_loan_final.last_pymnt_d = pd.to_datetime(clean_loan_final.last_pymnt_d, format='%b-%y')\n",
    "clean_loan_final.last_credit_pull_d = pd.to_datetime(clean_loan_final.last_credit_pull_d, format='%b-%y')"
   ]
  },
  {
   "cell_type": "code",
   "execution_count": 1549,
   "metadata": {},
   "outputs": [
    {
     "data": {
      "text/plain": [
       "1       2011-12-01\n",
       "3       2011-12-01\n",
       "4       2011-12-01\n",
       "5       2011-12-01\n",
       "6       2011-12-01\n",
       "           ...    \n",
       "39551   2007-12-01\n",
       "39562   2007-11-01\n",
       "39623   2007-10-01\n",
       "39666   2007-08-01\n",
       "39680   2007-08-01\n",
       "Name: issue_d, Length: 36433, dtype: datetime64[ns]"
      ]
     },
     "execution_count": 1549,
     "metadata": {},
     "output_type": "execute_result"
    }
   ],
   "source": [
    "clean_loan_final.issue_d"
   ]
  },
  {
   "cell_type": "code",
   "execution_count": 1550,
   "metadata": {},
   "outputs": [
    {
     "data": {
      "text/plain": [
       "1       1999-04-01\n",
       "3       1996-02-01\n",
       "4       1996-01-01\n",
       "5       2004-11-01\n",
       "6       2005-07-01\n",
       "           ...    \n",
       "39551   2000-12-01\n",
       "39562   2000-03-01\n",
       "39623   1997-08-01\n",
       "39666   1992-11-01\n",
       "39680   2000-07-01\n",
       "Name: earliest_cr_line, Length: 36433, dtype: datetime64[ns]"
      ]
     },
     "execution_count": 1550,
     "metadata": {},
     "output_type": "execute_result"
    }
   ],
   "source": [
    "clean_loan_final['earliest_cr_line']"
   ]
  },
  {
   "cell_type": "code",
   "execution_count": 1551,
   "metadata": {},
   "outputs": [],
   "source": [
    "clean_loan_final['earliest_cr_line_month'] = clean_loan_final['earliest_cr_line'].dt.month\n",
    "clean_loan_final['earliest_cr_line_year'] = clean_loan_final['earliest_cr_line'].dt.year"
   ]
  },
  {
   "cell_type": "code",
   "execution_count": 1552,
   "metadata": {},
   "outputs": [
    {
     "data": {
      "text/plain": [
       "2000    3034\n",
       "1999    2763\n",
       "1998    2645\n",
       "2001    2363\n",
       "1997    2271\n",
       "1996    2074\n",
       "1995    1974\n",
       "1994    1860\n",
       "2002    1794\n",
       "2003    1740\n",
       "2004    1639\n",
       "2005    1406\n",
       "1993    1398\n",
       "2006    1079\n",
       "1992     970\n",
       "1990     944\n",
       "1991     884\n",
       "1989     781\n",
       "1988     671\n",
       "2007     668\n",
       "1987     565\n",
       "1986     447\n",
       "1985     406\n",
       "1984     360\n",
       "1983     296\n",
       "1982     196\n",
       "1981     154\n",
       "1980     150\n",
       "2008     144\n",
       "1979     141\n",
       "1978     130\n",
       "1977      90\n",
       "1976      73\n",
       "1975      57\n",
       "1974      51\n",
       "1973      41\n",
       "1970      35\n",
       "1971      34\n",
       "1972      33\n",
       "1969      22\n",
       "2068      12\n",
       "2067      12\n",
       "2066       7\n",
       "2065       6\n",
       "2063       4\n",
       "2062       3\n",
       "2064       2\n",
       "2046       1\n",
       "2056       1\n",
       "2054       1\n",
       "2050       1\n",
       "Name: earliest_cr_line_year, dtype: int64"
      ]
     },
     "execution_count": 1552,
     "metadata": {},
     "output_type": "execute_result"
    }
   ],
   "source": [
    "clean_loan_final['earliest_cr_line_year'].value_counts()"
   ]
  },
  {
   "cell_type": "code",
   "execution_count": 1553,
   "metadata": {},
   "outputs": [],
   "source": [
    "clean_loan_final.loc[clean_loan_final['earliest_cr_line_year'] > 2011 , 'earliest_cr_line_year'] = clean_loan_final['earliest_cr_line_year'] - 100"
   ]
  },
  {
   "cell_type": "code",
   "execution_count": 1554,
   "metadata": {},
   "outputs": [
    {
     "data": {
      "text/plain": [
       "earliest_cr_line_year\n",
       "1946       1\n",
       "1950       1\n",
       "1954       1\n",
       "1956       1\n",
       "1962       3\n",
       "1963       4\n",
       "1964       2\n",
       "1965       6\n",
       "1966       7\n",
       "1967      12\n",
       "1968      12\n",
       "1969      22\n",
       "1970      35\n",
       "1971      34\n",
       "1972      33\n",
       "1973      41\n",
       "1974      51\n",
       "1975      57\n",
       "1976      73\n",
       "1977      90\n",
       "1978     130\n",
       "1979     141\n",
       "1980     150\n",
       "1981     154\n",
       "1982     196\n",
       "1983     296\n",
       "1984     360\n",
       "1985     406\n",
       "1986     447\n",
       "1987     565\n",
       "1988     671\n",
       "1989     781\n",
       "1990     944\n",
       "1991     884\n",
       "1992     970\n",
       "1993    1398\n",
       "1994    1860\n",
       "1995    1974\n",
       "1996    2074\n",
       "1997    2271\n",
       "1998    2645\n",
       "1999    2763\n",
       "2000    3034\n",
       "2001    2363\n",
       "2002    1794\n",
       "2003    1740\n",
       "2004    1639\n",
       "2005    1406\n",
       "2006    1079\n",
       "2007     668\n",
       "2008     144\n",
       "Name: loan_amnt, dtype: int64"
      ]
     },
     "execution_count": 1554,
     "metadata": {},
     "output_type": "execute_result"
    }
   ],
   "source": [
    "clean_loan_final.groupby('earliest_cr_line_year').loan_amnt.count()"
   ]
  },
  {
   "cell_type": "code",
   "execution_count": 1555,
   "metadata": {},
   "outputs": [],
   "source": [
    "clean_loan_final['issue_d_month'] = clean_loan_final['issue_d'].dt.month\n",
    "clean_loan_final['issue_d_year'] = clean_loan_final['issue_d'].dt.year"
   ]
  },
  {
   "cell_type": "code",
   "execution_count": 1556,
   "metadata": {
    "scrolled": true
   },
   "outputs": [],
   "source": [
    "clean_loan_final.to_csv('master_loan.csv', encoding='utf-8', index=False)"
   ]
  },
  {
   "cell_type": "markdown",
   "metadata": {},
   "source": [
    "## Analysis"
   ]
  },
  {
   "cell_type": "code",
   "execution_count": 1557,
   "metadata": {},
   "outputs": [],
   "source": [
    "#Loading the clean dataset into master_loan dataframe\n",
    "master_loan = clean_loan_final[:]"
   ]
  },
  {
   "cell_type": "code",
   "execution_count": 1558,
   "metadata": {},
   "outputs": [
    {
     "data": {
      "text/plain": [
       "(36433, 43)"
      ]
     },
     "execution_count": 1558,
     "metadata": {},
     "output_type": "execute_result"
    }
   ],
   "source": [
    "#Determing the shape of the dataframe\n",
    "master_loan.shape"
   ]
  },
  {
   "cell_type": "code",
   "execution_count": 1559,
   "metadata": {},
   "outputs": [
    {
     "data": {
      "text/html": [
       "<div>\n",
       "<style scoped>\n",
       "    .dataframe tbody tr th:only-of-type {\n",
       "        vertical-align: middle;\n",
       "    }\n",
       "\n",
       "    .dataframe tbody tr th {\n",
       "        vertical-align: top;\n",
       "    }\n",
       "\n",
       "    .dataframe thead th {\n",
       "        text-align: right;\n",
       "    }\n",
       "</style>\n",
       "<table border=\"1\" class=\"dataframe\">\n",
       "  <thead>\n",
       "    <tr style=\"text-align: right;\">\n",
       "      <th></th>\n",
       "      <th>loan_amnt</th>\n",
       "      <th>funded_amnt</th>\n",
       "      <th>term</th>\n",
       "      <th>int_rate</th>\n",
       "      <th>installment</th>\n",
       "      <th>grade</th>\n",
       "      <th>sub_grade</th>\n",
       "      <th>emp_title</th>\n",
       "      <th>emp_length</th>\n",
       "      <th>home_ownership</th>\n",
       "      <th>...</th>\n",
       "      <th>recoveries</th>\n",
       "      <th>collection_recovery_fee</th>\n",
       "      <th>last_pymnt_d</th>\n",
       "      <th>last_pymnt_amnt</th>\n",
       "      <th>last_credit_pull_d</th>\n",
       "      <th>pub_rec_bankruptcies</th>\n",
       "      <th>earliest_cr_line_month</th>\n",
       "      <th>earliest_cr_line_year</th>\n",
       "      <th>issue_d_month</th>\n",
       "      <th>issue_d_year</th>\n",
       "    </tr>\n",
       "  </thead>\n",
       "  <tbody>\n",
       "    <tr>\n",
       "      <th>1</th>\n",
       "      <td>2500</td>\n",
       "      <td>2500</td>\n",
       "      <td>60</td>\n",
       "      <td>15.27%</td>\n",
       "      <td>59.83</td>\n",
       "      <td>C</td>\n",
       "      <td>C4</td>\n",
       "      <td>Ryder</td>\n",
       "      <td>0</td>\n",
       "      <td>RENT</td>\n",
       "      <td>...</td>\n",
       "      <td>117.08</td>\n",
       "      <td>1.11</td>\n",
       "      <td>2013-04-01</td>\n",
       "      <td>119.66</td>\n",
       "      <td>2013-09-01</td>\n",
       "      <td>0</td>\n",
       "      <td>4</td>\n",
       "      <td>1999</td>\n",
       "      <td>12</td>\n",
       "      <td>2011</td>\n",
       "    </tr>\n",
       "    <tr>\n",
       "      <th>3</th>\n",
       "      <td>10000</td>\n",
       "      <td>10000</td>\n",
       "      <td>36</td>\n",
       "      <td>13.49%</td>\n",
       "      <td>339.31</td>\n",
       "      <td>C</td>\n",
       "      <td>C1</td>\n",
       "      <td>AIR RESOURCES BOARD</td>\n",
       "      <td>10</td>\n",
       "      <td>RENT</td>\n",
       "      <td>...</td>\n",
       "      <td>0</td>\n",
       "      <td>0.00</td>\n",
       "      <td>2015-01-01</td>\n",
       "      <td>357.48</td>\n",
       "      <td>2016-04-01</td>\n",
       "      <td>0</td>\n",
       "      <td>2</td>\n",
       "      <td>1996</td>\n",
       "      <td>12</td>\n",
       "      <td>2011</td>\n",
       "    </tr>\n",
       "    <tr>\n",
       "      <th>4</th>\n",
       "      <td>3000</td>\n",
       "      <td>3000</td>\n",
       "      <td>60</td>\n",
       "      <td>12.69%</td>\n",
       "      <td>67.79</td>\n",
       "      <td>B</td>\n",
       "      <td>B5</td>\n",
       "      <td>University Medical Group</td>\n",
       "      <td>1</td>\n",
       "      <td>RENT</td>\n",
       "      <td>...</td>\n",
       "      <td>0</td>\n",
       "      <td>0.00</td>\n",
       "      <td>2016-05-01</td>\n",
       "      <td>67.79</td>\n",
       "      <td>2016-05-01</td>\n",
       "      <td>0</td>\n",
       "      <td>1</td>\n",
       "      <td>1996</td>\n",
       "      <td>12</td>\n",
       "      <td>2011</td>\n",
       "    </tr>\n",
       "    <tr>\n",
       "      <th>5</th>\n",
       "      <td>5000</td>\n",
       "      <td>5000</td>\n",
       "      <td>36</td>\n",
       "      <td>7.90%</td>\n",
       "      <td>156.46</td>\n",
       "      <td>A</td>\n",
       "      <td>A4</td>\n",
       "      <td>Veolia Transportaton</td>\n",
       "      <td>3</td>\n",
       "      <td>RENT</td>\n",
       "      <td>...</td>\n",
       "      <td>0</td>\n",
       "      <td>0.00</td>\n",
       "      <td>2015-01-01</td>\n",
       "      <td>161.03</td>\n",
       "      <td>2016-01-01</td>\n",
       "      <td>0</td>\n",
       "      <td>11</td>\n",
       "      <td>2004</td>\n",
       "      <td>12</td>\n",
       "      <td>2011</td>\n",
       "    </tr>\n",
       "    <tr>\n",
       "      <th>6</th>\n",
       "      <td>7000</td>\n",
       "      <td>7000</td>\n",
       "      <td>60</td>\n",
       "      <td>15.96%</td>\n",
       "      <td>170.08</td>\n",
       "      <td>C</td>\n",
       "      <td>C5</td>\n",
       "      <td>Southern Star Photography</td>\n",
       "      <td>8</td>\n",
       "      <td>RENT</td>\n",
       "      <td>...</td>\n",
       "      <td>0</td>\n",
       "      <td>0.00</td>\n",
       "      <td>2016-05-01</td>\n",
       "      <td>1313.76</td>\n",
       "      <td>2016-05-01</td>\n",
       "      <td>0</td>\n",
       "      <td>7</td>\n",
       "      <td>2005</td>\n",
       "      <td>12</td>\n",
       "      <td>2011</td>\n",
       "    </tr>\n",
       "  </tbody>\n",
       "</table>\n",
       "<p>5 rows × 43 columns</p>\n",
       "</div>"
      ],
      "text/plain": [
       "  loan_amnt funded_amnt term int_rate installment grade sub_grade  \\\n",
       "1      2500        2500   60   15.27%       59.83     C        C4   \n",
       "3     10000       10000   36   13.49%      339.31     C        C1   \n",
       "4      3000        3000   60   12.69%       67.79     B        B5   \n",
       "5      5000        5000   36    7.90%      156.46     A        A4   \n",
       "6      7000        7000   60   15.96%      170.08     C        C5   \n",
       "\n",
       "                   emp_title  emp_length home_ownership  ... recoveries  \\\n",
       "1                      Ryder           0           RENT  ...     117.08   \n",
       "3        AIR RESOURCES BOARD          10           RENT  ...          0   \n",
       "4   University Medical Group           1           RENT  ...          0   \n",
       "5       Veolia Transportaton           3           RENT  ...          0   \n",
       "6  Southern Star Photography           8           RENT  ...          0   \n",
       "\n",
       "  collection_recovery_fee last_pymnt_d last_pymnt_amnt last_credit_pull_d  \\\n",
       "1                    1.11   2013-04-01          119.66         2013-09-01   \n",
       "3                    0.00   2015-01-01          357.48         2016-04-01   \n",
       "4                    0.00   2016-05-01           67.79         2016-05-01   \n",
       "5                    0.00   2015-01-01          161.03         2016-01-01   \n",
       "6                    0.00   2016-05-01         1313.76         2016-05-01   \n",
       "\n",
       "  pub_rec_bankruptcies earliest_cr_line_month earliest_cr_line_year  \\\n",
       "1                    0                      4                  1999   \n",
       "3                    0                      2                  1996   \n",
       "4                    0                      1                  1996   \n",
       "5                    0                     11                  2004   \n",
       "6                    0                      7                  2005   \n",
       "\n",
       "  issue_d_month issue_d_year  \n",
       "1            12         2011  \n",
       "3            12         2011  \n",
       "4            12         2011  \n",
       "5            12         2011  \n",
       "6            12         2011  \n",
       "\n",
       "[5 rows x 43 columns]"
      ]
     },
     "execution_count": 1559,
     "metadata": {},
     "output_type": "execute_result"
    }
   ],
   "source": [
    "master_loan.head()"
   ]
  },
  {
   "cell_type": "code",
   "execution_count": 1560,
   "metadata": {},
   "outputs": [
    {
     "data": {
      "text/plain": [
       "Index(['loan_amnt', 'funded_amnt', 'term', 'int_rate', 'installment', 'grade',\n",
       "       'sub_grade', 'emp_title', 'emp_length', 'home_ownership', 'annual_inc',\n",
       "       'verification_status', 'issue_d', 'loan_status', 'purpose', 'title',\n",
       "       'addr_state', 'dti', 'delinq_2yrs', 'earliest_cr_line',\n",
       "       'inq_last_6mths', 'open_acc', 'pub_rec', 'revol_bal', 'revol_util',\n",
       "       'total_acc', 'out_prncp', 'out_prncp_inv', 'total_pymnt',\n",
       "       'total_pymnt_inv', 'total_rec_prncp', 'total_rec_int',\n",
       "       'total_rec_late_fee', 'recoveries', 'collection_recovery_fee',\n",
       "       'last_pymnt_d', 'last_pymnt_amnt', 'last_credit_pull_d',\n",
       "       'pub_rec_bankruptcies', 'earliest_cr_line_month',\n",
       "       'earliest_cr_line_year', 'issue_d_month', 'issue_d_year'],\n",
       "      dtype='object')"
      ]
     },
     "execution_count": 1560,
     "metadata": {},
     "output_type": "execute_result"
    }
   ],
   "source": [
    "master_loan.columns"
   ]
  },
  {
   "cell_type": "code",
   "execution_count": 1561,
   "metadata": {
    "scrolled": true
   },
   "outputs": [],
   "source": [
    "master_loan = master_loan[master_loan['loan_status'].isin(['Fully Paid','Charged Off'])]"
   ]
  },
  {
   "cell_type": "markdown",
   "metadata": {},
   "source": [
    "### Univariate Analysis"
   ]
  },
  {
   "cell_type": "markdown",
   "metadata": {},
   "source": [
    "#### Analysing loan_status column"
   ]
  },
  {
   "cell_type": "code",
   "execution_count": 1562,
   "metadata": {},
   "outputs": [
    {
     "data": {
      "text/plain": [
       "Fully Paid     30424\n",
       "Charged Off     4943\n",
       "Name: loan_status, dtype: int64"
      ]
     },
     "execution_count": 1562,
     "metadata": {},
     "output_type": "execute_result"
    }
   ],
   "source": [
    "#Determining the frequency of values for the categorical variable\n",
    "master_loan.loan_status.value_counts()"
   ]
  },
  {
   "cell_type": "code",
   "execution_count": 1563,
   "metadata": {},
   "outputs": [
    {
     "name": "stdout",
     "output_type": "stream",
     "text": [
      "14.0\n"
     ]
    }
   ],
   "source": [
    "#Percentage of loans charged-off\n",
    "\n",
    "print(round(100*(master_loan.loc[master_loan['loan_status'] == 'Charged Off'].loan_status.count()/len(master_loan))))"
   ]
  },
  {
   "cell_type": "code",
   "execution_count": 1564,
   "metadata": {
    "scrolled": true
   },
   "outputs": [
    {
     "data": {
      "image/png": "[encoded data removed]",
      "text/plain": [
       "<Figure size 360x288 with 1 Axes>"
      ]
     },
     "metadata": {
      "needs_background": "light"
     },
     "output_type": "display_data"
    }
   ],
   "source": [
    "plt.figure(figsize=(5,4))\n",
    "master_loan.groupby('loan_status').loan_amnt.count().plot.bar()\n",
    "plt.show()"
   ]
  },
  {
   "cell_type": "markdown",
   "metadata": {},
   "source": [
    "#### Conclusion\n",
    "\n",
    "1)Majority of the loans are Fully Paid.\n",
    "\n",
    "2)About 14% of loans are defaulted"
   ]
  },
  {
   "cell_type": "markdown",
   "metadata": {},
   "source": [
    "#### Analysing grade column"
   ]
  },
  {
   "cell_type": "code",
   "execution_count": 1565,
   "metadata": {},
   "outputs": [
    {
     "data": {
      "text/plain": [
       "B    10718\n",
       "A     9140\n",
       "C     7181\n",
       "D     4663\n",
       "E     2481\n",
       "F      902\n",
       "G      282\n",
       "Name: grade, dtype: int64"
      ]
     },
     "execution_count": 1565,
     "metadata": {},
     "output_type": "execute_result"
    }
   ],
   "source": [
    "master_loan.grade.value_counts()"
   ]
  },
  {
   "cell_type": "code",
   "execution_count": 1566,
   "metadata": {},
   "outputs": [
    {
     "data": {
      "text/plain": [
       "B    30.305087\n",
       "A    25.843300\n",
       "C    20.304238\n",
       "D    13.184607\n",
       "E     7.015014\n",
       "F     2.550400\n",
       "G     0.797353\n",
       "Name: grade, dtype: float64"
      ]
     },
     "execution_count": 1566,
     "metadata": {},
     "output_type": "execute_result"
    }
   ],
   "source": [
    "(master_loan['grade'].value_counts(normalize=True)*100).sort_values(ascending=False)"
   ]
  },
  {
   "cell_type": "code",
   "execution_count": 1567,
   "metadata": {},
   "outputs": [
    {
     "data": {
      "image/png": "[encoded data removed]",
      "text/plain": [
       "<Figure size 720x576 with 1 Axes>"
      ]
     },
     "metadata": {
      "needs_background": "light"
     },
     "output_type": "display_data"
    }
   ],
   "source": [
    "fig, ax = plt.subplots()\n",
    "fig.set_size_inches(10, 8)\n",
    "sns.countplot(x='grade', data=master_loan)\n",
    "plt.title(\"Frequency plot of loan grades\")\n",
    "plt.xlabel('Loan Grades')\n",
    "plt.show()"
   ]
  },
  {
   "cell_type": "markdown",
   "metadata": {},
   "source": [
    "#### Conclusion\n",
    "Most of the loans issued are of grade A or grade B"
   ]
  },
  {
   "cell_type": "markdown",
   "metadata": {},
   "source": [
    "#### Analysing emp_length_years column"
   ]
  },
  {
   "cell_type": "code",
   "execution_count": 1568,
   "metadata": {},
   "outputs": [
    {
     "data": {
      "image/png": "[encoded data removed]",
      "text/plain": [
       "<Figure size 720x576 with 1 Axes>"
      ]
     },
     "metadata": {
      "needs_background": "light"
     },
     "output_type": "display_data"
    }
   ],
   "source": [
    "fig, ax = plt.subplots()\n",
    "fig.set_size_inches(10, 8)\n",
    "sns.countplot(x='emp_length', data=master_loan)\n",
    "plt.xlabel('Employee Working Experience')\n",
    "plt.ylabel('Total Loans')\n",
    "plt.show()"
   ]
  },
  {
   "cell_type": "code",
   "execution_count": 1569,
   "metadata": {
    "scrolled": true
   },
   "outputs": [
    {
     "data": {
      "image/png": "[encoded data removed]",
      "text/plain": [
       "<Figure size 720x576 with 1 Axes>"
      ]
     },
     "metadata": {
      "needs_background": "light"
     },
     "output_type": "display_data"
    }
   ],
   "source": [
    "fig, ax = plt.subplots()\n",
    "fig.set_size_inches(10, 8)\n",
    "sns.countplot(x='emp_length', hue='loan_status', data=master_loan)\n",
    "plt.xlabel('Employee Working Experience')\n",
    "plt.show()"
   ]
  },
  {
   "cell_type": "markdown",
   "metadata": {},
   "source": [
    "#### Conclusion\n",
    "Majority of loan applicants have more than 10 years of work experience\n",
    "\n",
    "Most of the loan defaulters are having more than 10 years of work experience"
   ]
  },
  {
   "cell_type": "markdown",
   "metadata": {},
   "source": [
    "#### Analysing annual_inc column"
   ]
  },
  {
   "cell_type": "code",
   "execution_count": 1570,
   "metadata": {
    "scrolled": false
   },
   "outputs": [
    {
     "data": {
      "text/plain": [
       "count    3.536700e+04\n",
       "mean     6.909599e+04\n",
       "std      6.396705e+04\n",
       "min      4.000000e+03\n",
       "25%      4.150000e+04\n",
       "50%      6.000000e+04\n",
       "75%      8.250000e+04\n",
       "max      6.000000e+06\n",
       "Name: annual_inc, dtype: float64"
      ]
     },
     "execution_count": 1570,
     "metadata": {},
     "output_type": "execute_result"
    }
   ],
   "source": [
    "master_loan['annual_inc'].astype(float).describe()"
   ]
  },
  {
   "cell_type": "code",
   "execution_count": 1571,
   "metadata": {},
   "outputs": [],
   "source": [
    "master_loan['annual_inc'] = master_loan['annual_inc'].astype(float)/100000"
   ]
  },
  {
   "cell_type": "code",
   "execution_count": 1572,
   "metadata": {
    "scrolled": false
   },
   "outputs": [
    {
     "data": {
      "image/png": "[encoded data removed]",
      "text/plain": [
       "<Figure size 432x288 with 1 Axes>"
      ]
     },
     "metadata": {
      "needs_background": "light"
     },
     "output_type": "display_data"
    }
   ],
   "source": [
    "sns.boxplot(y=master_loan['annual_inc'].astype(float))\n",
    "plt.ylabel('Annual Income in Lakhs')\n",
    "plt.yscale('log')\n",
    "plt.show()"
   ]
  },
  {
   "cell_type": "code",
   "execution_count": 1573,
   "metadata": {},
   "outputs": [
    {
     "data": {
      "image/png": "[encoded data removed]",
      "text/plain": [
       "<Figure size 432x288 with 1 Axes>"
      ]
     },
     "metadata": {
      "needs_background": "light"
     },
     "output_type": "display_data"
    }
   ],
   "source": [
    "sns.distplot(master_loan[master_loan['annual_inc'].astype(float) < 2000]['annual_inc'].astype(float), bins=5)\n",
    "plt.xlabel('Annual Income in Lakhs')\n",
    "plt.show()"
   ]
  },
  {
   "cell_type": "code",
   "execution_count": 1574,
   "metadata": {
    "scrolled": true
   },
   "outputs": [],
   "source": [
    "# Create derived variable \n",
    "master_loan['dti_bin'] = pd.cut(master_loan['dti'].astype(float), [0,5,10,15,20,25,30], \n",
    "                                labels=['0-5','5-10','10-15','15-20','20-25','25-30'])\n"
   ]
  },
  {
   "cell_type": "code",
   "execution_count": 1575,
   "metadata": {},
   "outputs": [
    {
     "data": {
      "text/plain": [
       "<matplotlib.axes._subplots.AxesSubplot at 0x1b576b56748>"
      ]
     },
     "execution_count": 1575,
     "metadata": {},
     "output_type": "execute_result"
    },
    {
     "data": {
      "image/png": "[encoded data removed]",
      "text/plain": [
       "<Figure size 720x360 with 1 Axes>"
      ]
     },
     "metadata": {
      "needs_background": "light"
     },
     "output_type": "display_data"
    }
   ],
   "source": [
    "plt.figure(figsize=(10,5))\n",
    "\n",
    "def plotLoanStatus(dataframe, by, loanstatus='Charged Off'):\n",
    "    grp = dataframe.groupby(['loan_status',by])[by].count()\n",
    "    cnt = dataframe.groupby(by)[by].count()\n",
    "    #print(grp)\n",
    "    percentages = grp.unstack() * 100 / cnt.T\n",
    "    #print(percentages)\n",
    "    ax = percentages.loc[loanstatus].plot.bar(color=sns.color_palette('husl', 16))\n",
    "    ax.set_ylabel('% of loans ' + loanstatus)\n",
    "    plt.margins(0.2, 0.2)\n",
    "    plt.tight_layout()\n",
    "    return ax\n",
    "\n",
    "plotLoanStatus(master_loan, 'dti_bin')"
   ]
  },
  {
   "cell_type": "markdown",
   "metadata": {},
   "source": [
    "#### Majority of loan applicants have income less than 5 lakhs "
   ]
  },
  {
   "cell_type": "markdown",
   "metadata": {},
   "source": [
    "Median annual income of the loan applicants is around 60000.\n",
    "Majority of the applicants have income less than 5 lakhs.\n",
    "Applicants having income range of 20-25k tend to default more"
   ]
  },
  {
   "cell_type": "code",
   "execution_count": 1576,
   "metadata": {},
   "outputs": [
    {
     "data": {
      "image/png": "[encoded data removed]",
      "text/plain": [
       "<Figure size 432x288 with 1 Axes>"
      ]
     },
     "metadata": {
      "needs_background": "light"
     },
     "output_type": "display_data"
    }
   ],
   "source": [
    "#determine the relationship between Interest rate and Grade\n",
    "master_loan['int_rate'] = master_loan['int_rate'].str.strip('%')\n",
    "sns.boxplot(y=master_loan['int_rate'].astype(float), x=master_loan['grade'], data=master_loan)\n",
    "plt.ylabel('Interest Rate Percentage')\n",
    "plt.show()"
   ]
  },
  {
   "cell_type": "markdown",
   "metadata": {},
   "source": [
    "#### Lower Interest rates are provided for loan applicants having grade A and grade B"
   ]
  },
  {
   "cell_type": "markdown",
   "metadata": {},
   "source": [
    "#### Analysing purpose column"
   ]
  },
  {
   "cell_type": "code",
   "execution_count": 1577,
   "metadata": {},
   "outputs": [
    {
     "data": {
      "text/plain": [
       "debt_consolidation    16911\n",
       "credit_card            4626\n",
       "other                  3462\n",
       "home_improvement       2614\n",
       "major_purchase         1973\n",
       "car                    1395\n",
       "small_business         1351\n",
       "wedding                 865\n",
       "medical                 622\n",
       "moving                  523\n",
       "vacation                332\n",
       "house                   330\n",
       "educational             276\n",
       "renewable_energy         87\n",
       "Name: purpose, dtype: int64"
      ]
     },
     "execution_count": 1577,
     "metadata": {},
     "output_type": "execute_result"
    }
   ],
   "source": [
    "master_loan.purpose.value_counts()"
   ]
  },
  {
   "cell_type": "code",
   "execution_count": 1578,
   "metadata": {},
   "outputs": [
    {
     "data": {
      "image/png": "[encoded data removed]",
      "text/plain": [
       "<Figure size 864x432 with 1 Axes>"
      ]
     },
     "metadata": {
      "needs_background": "light"
     },
     "output_type": "display_data"
    }
   ],
   "source": [
    "plt.figure(figsize=(12,6))\n",
    "sns.countplot(x='purpose', hue=\"loan_status\", data=master_loan)\n",
    "plt.xticks(rotation=45)\n",
    "plt.ylabel('Number of Loans')\n",
    "plt.xlabel('Purpose of Loan')\n",
    "plt.show()"
   ]
  },
  {
   "cell_type": "code",
   "execution_count": 1579,
   "metadata": {},
   "outputs": [
    {
     "data": {
      "image/png": "[encoded data removed]",
      "text/plain": [
       "<Figure size 864x432 with 1 Axes>"
      ]
     },
     "metadata": {
      "needs_background": "light"
     },
     "output_type": "display_data"
    }
   ],
   "source": [
    "plt.figure(figsize=(12,6))\n",
    "sns.countplot(x='purpose', hue=\"term\", data=master_loan)\n",
    "plt.xticks(rotation=45)\n",
    "plt.ylabel('Number of Loans')\n",
    "plt.xlabel('Purpose of Loan')\n",
    "plt.show()"
   ]
  },
  {
   "cell_type": "markdown",
   "metadata": {},
   "source": [
    "Majority of the loans were taken on debt consolidation purpose"
   ]
  },
  {
   "cell_type": "code",
   "execution_count": 1580,
   "metadata": {},
   "outputs": [
    {
     "data": {
      "image/png": "[encoded data removed]",
      "text/plain": [
       "<Figure size 432x288 with 1 Axes>"
      ]
     },
     "metadata": {
      "needs_background": "light"
     },
     "output_type": "display_data"
    }
   ],
   "source": [
    "sns.boxplot( y=master_loan['loan_amnt'].astype(float), x='loan_status' , data=master_loan)\n",
    "plt.ylabel('Loan Amount')\n",
    "plt.show()"
   ]
  },
  {
   "cell_type": "markdown",
   "metadata": {},
   "source": [
    "Median value of loan amount for current loans is higher that of fully paid loans and defaulted loans"
   ]
  },
  {
   "cell_type": "markdown",
   "metadata": {},
   "source": [
    "#### Performing analysis on int_rate column"
   ]
  },
  {
   "cell_type": "code",
   "execution_count": 1581,
   "metadata": {},
   "outputs": [
    {
     "data": {
      "image/png": "[encoded data removed]",
      "text/plain": [
       "<Figure size 1008x504 with 1 Axes>"
      ]
     },
     "metadata": {
      "needs_background": "light"
     },
     "output_type": "display_data"
    }
   ],
   "source": [
    "fig, ax = plt.subplots()\n",
    "fig.set_size_inches(14, 7)\n",
    "sns.boxplot(y=master_loan['int_rate'].astype(float), data=master_loan)\n",
    "plt.title('Distribution of interest rates')\n",
    "plt.xlabel('Interest rates')\n",
    "plt.show()"
   ]
  },
  {
   "cell_type": "code",
   "execution_count": 1582,
   "metadata": {},
   "outputs": [
    {
     "data": {
      "text/html": [
       "<div>\n",
       "<style scoped>\n",
       "    .dataframe tbody tr th:only-of-type {\n",
       "        vertical-align: middle;\n",
       "    }\n",
       "\n",
       "    .dataframe tbody tr th {\n",
       "        vertical-align: top;\n",
       "    }\n",
       "\n",
       "    .dataframe thead th {\n",
       "        text-align: right;\n",
       "    }\n",
       "</style>\n",
       "<table border=\"1\" class=\"dataframe\">\n",
       "  <thead>\n",
       "    <tr style=\"text-align: right;\">\n",
       "      <th></th>\n",
       "      <th>count</th>\n",
       "      <th>mean</th>\n",
       "      <th>std</th>\n",
       "      <th>min</th>\n",
       "      <th>25%</th>\n",
       "      <th>50%</th>\n",
       "      <th>75%</th>\n",
       "      <th>max</th>\n",
       "    </tr>\n",
       "    <tr>\n",
       "      <th>loan_status</th>\n",
       "      <th></th>\n",
       "      <th></th>\n",
       "      <th></th>\n",
       "      <th></th>\n",
       "      <th></th>\n",
       "      <th></th>\n",
       "      <th></th>\n",
       "      <th></th>\n",
       "    </tr>\n",
       "  </thead>\n",
       "  <tbody>\n",
       "    <tr>\n",
       "      <th>Charged Off</th>\n",
       "      <td>4943.0</td>\n",
       "      <td>13.929828</td>\n",
       "      <td>3.647619</td>\n",
       "      <td>5.42</td>\n",
       "      <td>11.49</td>\n",
       "      <td>13.79</td>\n",
       "      <td>16.45</td>\n",
       "      <td>24.40</td>\n",
       "    </tr>\n",
       "    <tr>\n",
       "      <th>Fully Paid</th>\n",
       "      <td>30424.0</td>\n",
       "      <td>11.667243</td>\n",
       "      <td>3.613734</td>\n",
       "      <td>5.42</td>\n",
       "      <td>8.59</td>\n",
       "      <td>11.49</td>\n",
       "      <td>14.09</td>\n",
       "      <td>24.11</td>\n",
       "    </tr>\n",
       "  </tbody>\n",
       "</table>\n",
       "</div>"
      ],
      "text/plain": [
       "               count       mean       std   min    25%    50%    75%    max\n",
       "loan_status                                                                \n",
       "Charged Off   4943.0  13.929828  3.647619  5.42  11.49  13.79  16.45  24.40\n",
       "Fully Paid   30424.0  11.667243  3.613734  5.42   8.59  11.49  14.09  24.11"
      ]
     },
     "execution_count": 1582,
     "metadata": {},
     "output_type": "execute_result"
    }
   ],
   "source": [
    "master_loan['int_rate'] = master_loan['int_rate'].astype('float')\n",
    "master_loan.groupby('loan_status')['int_rate'].describe()"
   ]
  },
  {
   "cell_type": "code",
   "execution_count": 1583,
   "metadata": {},
   "outputs": [
    {
     "data": {
      "image/png": "[encoded data removed]",
      "text/plain": [
       "<Figure size 432x288 with 1 Axes>"
      ]
     },
     "metadata": {
      "needs_background": "light"
     },
     "output_type": "display_data"
    }
   ],
   "source": [
    "sns.barplot(y = 'int_rate' , x = 'loan_status', data = master_loan)\n",
    "plt.show()"
   ]
  },
  {
   "cell_type": "markdown",
   "metadata": {},
   "source": [
    "Higher interest rate loans are charged off to the higher extent"
   ]
  },
  {
   "cell_type": "markdown",
   "metadata": {},
   "source": [
    "#### Analysing loan_amt column"
   ]
  },
  {
   "cell_type": "code",
   "execution_count": 1584,
   "metadata": {},
   "outputs": [],
   "source": [
    "master_loan['loan_amnt'] = master_loan['loan_amnt'].astype(float)\n",
    "master_loan['funded_amnt'] = master_loan['funded_amnt'].astype(float)"
   ]
  },
  {
   "cell_type": "code",
   "execution_count": 1585,
   "metadata": {
    "scrolled": true
   },
   "outputs": [
    {
     "data": {
      "image/png": "[encoded data removed]",
      "text/plain": [
       "<Figure size 432x288 with 1 Axes>"
      ]
     },
     "metadata": {
      "needs_background": "light"
     },
     "output_type": "display_data"
    }
   ],
   "source": [
    "sns.boxplot( y=master_loan[\"loan_amnt\"] )\n",
    "plt.ylabel('Loan Amount')\n",
    "plt.show()"
   ]
  },
  {
   "cell_type": "code",
   "execution_count": 1586,
   "metadata": {},
   "outputs": [
    {
     "data": {
      "image/png": "[encoded data removed]",
      "text/plain": [
       "<Figure size 432x288 with 1 Axes>"
      ]
     },
     "metadata": {
      "needs_background": "light"
     },
     "output_type": "display_data"
    }
   ],
   "source": [
    "sns.distplot(master_loan['funded_amnt'])\n",
    "plt.show()"
   ]
  },
  {
   "cell_type": "markdown",
   "metadata": {},
   "source": [
    "Funded amount is left skewed"
   ]
  },
  {
   "cell_type": "code",
   "execution_count": 1587,
   "metadata": {},
   "outputs": [
    {
     "data": {
      "image/png": "[encoded data removed]",
      "text/plain": [
       "<Figure size 360x504 with 1 Axes>"
      ]
     },
     "metadata": {
      "needs_background": "light"
     },
     "output_type": "display_data"
    }
   ],
   "source": [
    "plt.figure(figsize=(5,7))\n",
    "ax = master_loan.groupby('loan_status').loan_amnt.count().plot.bar()\n",
    "plt.xticks(rotation=45)\n",
    "plt.show()"
   ]
  },
  {
   "cell_type": "code",
   "execution_count": 1588,
   "metadata": {},
   "outputs": [
    {
     "data": {
      "image/png": "[encoded data removed]",
      "text/plain": [
       "<Figure size 432x288 with 1 Axes>"
      ]
     },
     "metadata": {
      "needs_background": "light"
     },
     "output_type": "display_data"
    }
   ],
   "source": [
    "sns.barplot(x='term', y=master_loan['loan_amnt'], hue=\"loan_status\", data=master_loan, estimator=np.mean)\n",
    "plt.show()"
   ]
  },
  {
   "cell_type": "markdown",
   "metadata": {},
   "source": [
    "#### Analysing addr_state column"
   ]
  },
  {
   "cell_type": "code",
   "execution_count": 1589,
   "metadata": {},
   "outputs": [
    {
     "data": {
      "text/plain": [
       "CA    18.084655\n",
       "NY     9.573897\n",
       "FL     7.167699\n",
       "TX     6.935844\n",
       "NJ     4.713433\n",
       "IL     3.904770\n",
       "PA     3.882150\n",
       "VA     3.562643\n",
       "GA     3.542851\n",
       "MA     3.339271\n",
       "OH     3.098934\n",
       "MD     2.686120\n",
       "AZ     2.143241\n",
       "WA     2.035796\n",
       "CO     1.928351\n",
       "NC     1.900076\n",
       "CT     1.849181\n",
       "MI     1.812424\n",
       "MO     1.721944\n",
       "MN     1.566432\n",
       "NV     1.249753\n",
       "SC     1.193203\n",
       "AL     1.122515\n",
       "OR     1.122515\n",
       "LA     1.099895\n",
       "WI     1.094240\n",
       "KY     0.828456\n",
       "OK     0.769079\n",
       "KS     0.658806\n",
       "UT     0.647496\n",
       "AR     0.610739\n",
       "DC     0.573981\n",
       "RI     0.523086\n",
       "NM     0.460882\n",
       "WV     0.443917\n",
       "HI     0.432607\n",
       "NH     0.418469\n",
       "DE     0.296887\n",
       "WY     0.212062\n",
       "AK     0.206407\n",
       "MT     0.200752\n",
       "SD     0.155512\n",
       "VT     0.132892\n",
       "MS     0.050895\n",
       "TN     0.028275\n",
       "ID     0.008482\n",
       "IA     0.002827\n",
       "NE     0.002827\n",
       "IN     0.002827\n",
       "Name: addr_state, dtype: float64"
      ]
     },
     "execution_count": 1589,
     "metadata": {},
     "output_type": "execute_result"
    }
   ],
   "source": [
    "100*master_loan['addr_state'].value_counts(normalize=True).sort_values(ascending=False)"
   ]
  },
  {
   "cell_type": "code",
   "execution_count": 1590,
   "metadata": {},
   "outputs": [
    {
     "data": {
      "image/png": "[encoded data removed]",
      "text/plain": [
       "<Figure size 2160x360 with 1 Axes>"
      ]
     },
     "metadata": {
      "needs_background": "light"
     },
     "output_type": "display_data"
    },
    {
     "data": {
      "image/png": "[encoded data removed]",
      "text/plain": [
       "<Figure size 2160x720 with 1 Axes>"
      ]
     },
     "metadata": {
      "needs_background": "light"
     },
     "output_type": "display_data"
    }
   ],
   "source": [
    "plt.figure(figsize=(30,5))\n",
    "\n",
    "plt.subplot(1, 2, 1)\n",
    "sns.countplot(master_loan['addr_state'], order=sorted(master_loan.addr_state.unique()))\n",
    "plt.xticks(rotation=45)\n",
    "\n",
    "#Fraction of loans charged off and fully Paid\n",
    "\n",
    "charge_off_count = master_loan.groupby('addr_state')['loan_status'].value_counts(normalize=True).loc[:,'Charged Off']  \n",
    "Fully_paid_count = master_loan.groupby('addr_state')['loan_status'].value_counts(normalize=True).loc[:,'Fully Paid']  \n",
    "\n",
    "plt.figure(figsize=(30,10))\n",
    "\n",
    "plt.subplot(2, 2, 1)\n",
    "a=sns.barplot(x=charge_off_count.index, y=charge_off_count.values)\n",
    "a.set_ylabel('Size of Loans Charged-off')\n",
    "plt.xticks(rotation=45)\n",
    "\n",
    "plt.show()\n"
   ]
  },
  {
   "cell_type": "markdown",
   "metadata": {},
   "source": [
    "#### Conclusion\n",
    "\n",
    "Maximum number of loans are from California State(18%) and New York state(9%). \n",
    "States with higher Charge Off rates have very low number of loans. \n",
    "This variable can be ignored, as it doesn't depict any characteristic of the data."
   ]
  },
  {
   "cell_type": "markdown",
   "metadata": {},
   "source": [
    "#### Analysing dti column"
   ]
  },
  {
   "cell_type": "code",
   "execution_count": 1591,
   "metadata": {},
   "outputs": [
    {
     "data": {
      "text/plain": [
       "count    35367.000000\n",
       "mean        13.403961\n",
       "std          6.636540\n",
       "min          0.000000\n",
       "25%          8.320000\n",
       "50%         13.500000\n",
       "75%         18.640000\n",
       "max         29.990000\n",
       "Name: dti, dtype: float64"
      ]
     },
     "execution_count": 1591,
     "metadata": {},
     "output_type": "execute_result"
    }
   ],
   "source": [
    "master_loan.dti = master_loan.dti.astype(float)\n",
    "master_loan.dti.describe()"
   ]
  },
  {
   "cell_type": "code",
   "execution_count": 1592,
   "metadata": {},
   "outputs": [
    {
     "data": {
      "image/png": "[encoded data removed]",
      "text/plain": [
       "<Figure size 432x288 with 1 Axes>"
      ]
     },
     "metadata": {
      "needs_background": "light"
     },
     "output_type": "display_data"
    }
   ],
   "source": [
    "sns.boxplot( y=master_loan[\"dti\"], x=master_loan[\"loan_status\"])\n",
    "plt.ylabel('Debt to Interest Ratio')\n",
    "plt.show()"
   ]
  },
  {
   "cell_type": "code",
   "execution_count": 1593,
   "metadata": {},
   "outputs": [
    {
     "data": {
      "image/png": "[encoded data removed]",
      "text/plain": [
       "<Figure size 1080x360 with 1 Axes>"
      ]
     },
     "metadata": {
      "needs_background": "light"
     },
     "output_type": "display_data"
    }
   ],
   "source": [
    "plt.figure(figsize=(15,5))\n",
    "plt.subplot(1, 2, 1)\n",
    "ax = sns.distplot(master_loan['dti'])"
   ]
  },
  {
   "cell_type": "markdown",
   "metadata": {},
   "source": [
    "Most of the loans being defaulted have dti ranging from 10-20"
   ]
  },
  {
   "cell_type": "markdown",
   "metadata": {},
   "source": [
    "#### Analysing delinq_2yrs column"
   ]
  },
  {
   "cell_type": "code",
   "execution_count": 1594,
   "metadata": {},
   "outputs": [],
   "source": [
    "master_loan.delinq_2yrs = master_loan.delinq_2yrs.astype(float)"
   ]
  },
  {
   "cell_type": "code",
   "execution_count": 1595,
   "metadata": {},
   "outputs": [
    {
     "data": {
      "text/plain": [
       "0.0     31533\n",
       "1.0      2939\n",
       "2.0       614\n",
       "3.0       189\n",
       "4.0        53\n",
       "5.0        21\n",
       "6.0        10\n",
       "7.0         4\n",
       "8.0         2\n",
       "11.0        1\n",
       "9.0         1\n",
       "Name: delinq_2yrs, dtype: int64"
      ]
     },
     "execution_count": 1595,
     "metadata": {},
     "output_type": "execute_result"
    }
   ],
   "source": [
    "master_loan.delinq_2yrs.value_counts()"
   ]
  },
  {
   "cell_type": "code",
   "execution_count": 1596,
   "metadata": {},
   "outputs": [
    {
     "data": {
      "image/png": "[encoded data removed]",
      "text/plain": [
       "<Figure size 432x288 with 1 Axes>"
      ]
     },
     "metadata": {
      "needs_background": "light"
     },
     "output_type": "display_data"
    }
   ],
   "source": [
    "a=sns.distplot(master_loan['delinq_2yrs'], kde=False)\n",
    "a.set_ylabel('Loans Charged-off')\n",
    "\n",
    "plt.show()"
   ]
  },
  {
   "cell_type": "markdown",
   "metadata": {},
   "source": [
    "There are higher chances of default if the dti is 0 or 1"
   ]
  },
  {
   "cell_type": "markdown",
   "metadata": {},
   "source": [
    "#### Analysing pub_rec_bankruptcy column"
   ]
  },
  {
   "cell_type": "code",
   "execution_count": 1597,
   "metadata": {},
   "outputs": [],
   "source": [
    "master_loan['pub_rec_bankruptcies'] = master_loan['pub_rec_bankruptcies'].astype(float)"
   ]
  },
  {
   "cell_type": "code",
   "execution_count": 1598,
   "metadata": {},
   "outputs": [
    {
     "data": {
      "text/plain": [
       "0.0    33898\n",
       "1.0     1464\n",
       "2.0        5\n",
       "Name: pub_rec_bankruptcies, dtype: int64"
      ]
     },
     "execution_count": 1598,
     "metadata": {},
     "output_type": "execute_result"
    }
   ],
   "source": [
    "master_loan['pub_rec_bankruptcies'].value_counts()"
   ]
  },
  {
   "cell_type": "code",
   "execution_count": 1599,
   "metadata": {},
   "outputs": [
    {
     "data": {
      "text/plain": [
       "0.0    95.84641\n",
       "Name: pub_rec_bankruptcies, dtype: float64"
      ]
     },
     "execution_count": 1599,
     "metadata": {},
     "output_type": "execute_result"
    }
   ],
   "source": [
    "q = (master_loan['pub_rec_bankruptcies'].value_counts(normalize=True)*100).sort_values(ascending=False)\n",
    "q.head(1)"
   ]
  },
  {
   "cell_type": "code",
   "execution_count": 1600,
   "metadata": {},
   "outputs": [
    {
     "data": {
      "image/png": "[encoded data removed]",
      "text/plain": [
       "<Figure size 432x288 with 1 Axes>"
      ]
     },
     "metadata": {
      "needs_background": "light"
     },
     "output_type": "display_data"
    }
   ],
   "source": [
    "sns.countplot(x = master_loan['pub_rec_bankruptcies'], hue = master_loan['loan_status'])\n",
    "\n",
    "plt.yscale('log')\n",
    "plt.show()"
   ]
  },
  {
   "cell_type": "code",
   "execution_count": 1601,
   "metadata": {},
   "outputs": [],
   "source": [
    "def plotLoanStatus(master_loan, by, loanstatus='Charged Off'):\n",
    "    grp = master_loan.groupby(['loan_status',by])[by].count()\n",
    "    cnt = master_loan.groupby(by)[by].count()\n",
    "    \n",
    "    #print(grp)\n",
    "    percentages = grp.unstack() * 100 / cnt.T\n",
    "    \n",
    "    #print(percentages)\n",
    "    ax = percentages.loc[loanstatus].plot.bar(color=sns.color_palette('husl', 16))\n",
    "    ax.set_ylabel('% of loans ' + loanstatus)\n",
    "   \n",
    "    plt.margins(0.2, 0.2)\n",
    "    plt.tight_layout()\n",
    "    return ax"
   ]
  },
  {
   "cell_type": "code",
   "execution_count": 1602,
   "metadata": {},
   "outputs": [
    {
     "data": {
      "text/plain": [
       "<matplotlib.axes._subplots.AxesSubplot at 0x1b3afecfc48>"
      ]
     },
     "execution_count": 1602,
     "metadata": {},
     "output_type": "execute_result"
    },
    {
     "data": {
      "image/png": "[encoded data removed]",
      "text/plain": [
       "<Figure size 504x360 with 1 Axes>"
      ]
     },
     "metadata": {
      "needs_background": "light"
     },
     "output_type": "display_data"
    }
   ],
   "source": [
    "plt.figure(figsize=(7,5))\n",
    "plotLoanStatus(master_loan, 'pub_rec_bankruptcies')"
   ]
  },
  {
   "cell_type": "markdown",
   "metadata": {},
   "source": [
    "The percentage of Charged Off loans is markedly higher when the loan borrower has a record of bankruptcy."
   ]
  }
 ],
 "metadata": {
  "kernelspec": {
   "display_name": "Python 3",
   "language": "python",
   "name": "python3"
  },
  "language_info": {
   "codemirror_mode": {
    "name": "ipython",
    "version": 3
   },
   "file_extension": ".py",
   "mimetype": "text/x-python",
   "name": "python",
   "nbconvert_exporter": "python",
   "pygments_lexer": "ipython3",
   "version": "3.7.6"
  }
 },
 "nbformat": 4,
 "nbformat_minor": 4
}
